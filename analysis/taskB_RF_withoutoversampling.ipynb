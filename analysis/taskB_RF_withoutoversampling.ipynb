{
 "cells": [
  {
   "cell_type": "markdown",
   "id": "78c15209",
   "metadata": {},
   "source": [
    "# Task B- Random Forests without Oversampling"
   ]
  },
  {
   "cell_type": "markdown",
   "id": "8213f304-3b03-44a0-a556-517bae8e39a8",
   "metadata": {},
   "source": [
    " ## Loading the Datasets"
   ]
  },
  {
   "cell_type": "code",
   "execution_count": null,
   "id": "b4269fc2",
   "metadata": {},
   "outputs": [],
   "source": [
    "#imports\n",
    "import pandas as pd\n",
    "import numpy as np\n",
    "import matplotlib.pyplot as plt\n",
    "import seaborn as sns\n",
    "import re\n",
    "from textblob import TextBlob\n",
    "from sklearn.ensemble import RandomForestRegressor \n",
    "from sklearn.model_selection import KFold\n",
    "from sklearn.metrics import mean_squared_error, mean_absolute_error, explained_variance_score, r2_score\n",
    "from sklearn.metrics import (\n",
    "    mean_squared_error, mean_absolute_error,\n",
    "    explained_variance_score, r2_score\n",
    ")\n"
   ]
  },
  {
   "cell_type": "code",
   "execution_count": null,
   "id": "fb481e9b-ebe3-4e8d-84bb-072434d68129",
   "metadata": {},
   "outputs": [],
   "source": [
    "sns.set_theme(style=\"whitegrid\")\n",
    "\n",
    "# Main Dataset\n",
    "\n",
    "# Conversation Data -- we will use this data in the \"Conversation Data\" section\n",
    "\n",
    "df = pd.read_json(\n",
    "    \"data/chatbot-arena-conversations.jsonl.gz\",\n",
    "    compression=\"gzip\",\n",
    "    lines=True)\n",
    "df.head(5)"
   ]
  },
  {
   "cell_type": "code",
   "execution_count": null,
   "id": "09ce013d-8710-46a3-aff2-5fe0c330a0d1",
   "metadata": {},
   "outputs": [],
   "source": [
    "# Auxiliary Datasets\n",
    "\n",
    "# Embedding Data -- we will use this data in the \"Embedding Data\" section\n",
    "prompt_embeddings = np.load(\n",
    "    \"data/chatbot-arena-prompts-embeddings.npy\"\n",
    ")\n",
    "\n",
    "response_a_embeddings = np.load(\n",
    "    \"data/chatbot-arena-model_a_response-embeddings.npy\"\n",
    ")\n",
    "\n",
    "response_b_embeddings = np.load(\n",
    "    \"data/chatbot-arena-model_b_response-embeddings.npy\"\n",
    ")\n",
    "\n",
    "# Topic Modeling and Hardness Score Data -- we will use this data in the \"Topic Modeling and Hardness Score Data\" section\n",
    "topic_and_hardness = pd.read_json(\n",
    "    \"data/chatbot-arena-gpt3-scores.jsonl.gz\",\n",
    "    lines=True,\n",
    "    compression=\"gzip\"\n",
    ")"
   ]
  },
  {
   "cell_type": "code",
   "execution_count": null,
   "id": "35373960",
   "metadata": {},
   "outputs": [],
   "source": [
    "# Extracting the prompt\n",
    "df[\"prompt\"] = df[\"conversation_a\"].str[0].str[\"content\"]\n",
    "df[\"prompt\"].head(1)\n",
    "df[\"prompt\"].value_counts()"
   ]
  },
  {
   "cell_type": "code",
   "execution_count": null,
   "id": "b71e0ec8",
   "metadata": {},
   "outputs": [],
   "source": [
    "#add columns to separate responses from the conversation (we already did this for the prompt)\n",
    "df[\"model_a_response\"] = df[\"conversation_a\"].str[1].str[\"content\"]\n",
    "df[\"model_b_response\"] = df[\"conversation_b\"].str[1].str[\"content\"]\n",
    "df[\"model_a_response\"][2]"
   ]
  },
  {
   "cell_type": "code",
   "execution_count": null,
   "id": "69127afd",
   "metadata": {},
   "outputs": [],
   "source": [
    "#create columns for prompt and response lengths\n",
    "df[\"prompt_length\"] = df[\"prompt\"].str.len()\n",
    "df[\"prompt_length\"].describe() #use this if you want to know statistics about prompt and response lengths\n",
    "\n",
    "df[\"response_a_length\"] = df[\"model_a_response\"].str.len()\n",
    "\n",
    "\n",
    "df[\"response_b_length\"] = df[\"model_b_response\"].str.len()\n"
   ]
  },
  {
   "cell_type": "markdown",
   "id": "2a93ab0e",
   "metadata": {},
   "source": [
    "### Engineering feature of dot product similarity between embeddings"
   ]
  },
  {
   "cell_type": "code",
   "execution_count": null,
   "id": "dec64caa",
   "metadata": {},
   "outputs": [],
   "source": [
    "assert len(prompt_embeddings) == len(df), \"Mismatch between prompt embeddings and DataFrame rows.\"\n",
    "assert len(response_a_embeddings) == len(df), \"Mismatch between response_a embeddings and DataFrame rows.\"\n",
    "assert len(response_b_embeddings) == len(df), \"Mismatch between response_b embeddings and DataFrame rows.\"\n",
    "\n",
    "# Compute dot products and add them as new columns to the original DataFrame\n",
    "df['similarity_prompt_response_a'] = [\n",
    "    np.dot(prompt, response_a)\n",
    "    for prompt, response_a in zip(prompt_embeddings, response_a_embeddings)\n",
    "]\n",
    "\n",
    "df['similarity_prompt_response_b'] = [\n",
    "    np.dot(prompt, response_b)\n",
    "    for prompt, response_b in zip(prompt_embeddings, response_b_embeddings)\n",
    "]\n"
   ]
  },
  {
   "cell_type": "markdown",
   "id": "aef10623",
   "metadata": {},
   "source": [
    "#### Converting the score_value_\"n\" columns, in topic_and_hardness dataframe, to numeric values and stored in the column \"hardness_score\""
   ]
  },
  {
   "cell_type": "code",
   "execution_count": null,
   "id": "a710e695",
   "metadata": {},
   "outputs": [],
   "source": [
    "#convert hardness scores from list to numeric\n",
    "topic_and_hardness['score_value_1'] = pd.to_numeric(topic_and_hardness['score_value_1'], errors='coerce')\n",
    "topic_and_hardness['score_value_2'] = pd.to_numeric(topic_and_hardness['score_value_2'], errors='coerce')\n",
    "topic_and_hardness['score_value_3'] = pd.to_numeric(topic_and_hardness['score_value_3'], errors='coerce')"
   ]
  },
  {
   "cell_type": "code",
   "execution_count": null,
   "id": "f4ae4dc2",
   "metadata": {},
   "outputs": [],
   "source": [
    "topic_and_hardness.drop_duplicates(subset='question_id', inplace=True)"
   ]
  },
  {
   "cell_type": "code",
   "execution_count": null,
   "id": "bef7c682",
   "metadata": {},
   "outputs": [],
   "source": [
    "#this will merge the mean value of the hardness scores and the topic_modeling 3 with the main data set\n",
    "topic_and_hardness['hardness_score'] = topic_and_hardness[['score_value_1', 'score_value_2', 'score_value_3']].mean(axis=1)\n",
    "merged_df = df.merge(topic_and_hardness[['question_id', 'hardness_score', 'topic_modeling_3']], on='question_id', how='left')"
   ]
  },
  {
   "cell_type": "markdown",
   "id": "15b30711",
   "metadata": {},
   "source": [
    "#### Removing question ids that produce null values and storing the final dataset into filtered_df"
   ]
  },
  {
   "cell_type": "code",
   "execution_count": null,
   "id": "9ba997bc",
   "metadata": {},
   "outputs": [],
   "source": [
    "# To Do: fetch code where we identified these question IDs @caroline\n",
    "# This will remove question ids that produced null values for topic_and_hardness\n",
    "filtered_df = merged_df[\n",
    "    ~merged_df['question_id'].isin([\n",
    "        'e6d45ead33114cca8ee3cfa028517eff',\n",
    "        'addaa796ee094f029f8014ea1468df8a',\n",
    "        'd37eb99864fa41ecab49026abdddb53e',\n",
    "        '6da02001e74041d0947982fb4d05db9e',\n",
    "        'd93e36df73e84aa2ade15d4a038c098f',\n",
    "        '50b63f92bc5948218e1555d1eae17797',\n",
    "        '8277b16d9a0845d694a33c04f446926c',\n",
    "        'd56d698d4c1c495682a366f2a78fcb77',\n",
    "        '86c7abedb5f84b7ea752cc98d324d387',\n",
    "        '974569d7b9c74ca591f1922bf3722266',\n",
    "        'ba3cfbae941946c6a41ea725b46f3aa7',\n",
    "        '283be8724d674cb6a74da59d0c12ea16',\n",
    "        'fbd400babd914eb1ad6202b4400d6beb',\n",
    "        '087b90bf76ed4c409b7c7bd5d6b0d6c5',\n",
    "        'f9ad250d0194489b8b9f12d31386aab1',\n",
    "        '7e371a23981847c7b19bc61195f11eda',\n",
    "        'f55b273603754c0d92f5139351ca0d02',\n",
    "        '255e1466eaf14cc2ba93040776c0c440',\n",
    "        '6979b646271e46f4a329a5e6acaeed38',\n",
    "        'ed7fa335d5524295b1dd79452778d26c',\n",
    "        'f794c699e4964b11a1373976be5b0944',\n",
    "        'c92bcab701cc46649368fc121b84ccc1',\n",
    "        'a632607132cf4908883fd262102714c9',\n",
    "        'a0857d64b4954ea6bd75c2406c3dd32c',\n",
    "        'e4a1fc8a9462475d95022914cb9f5b03',\n",
    "        'c7aa752f61dc46d093dc86713686f6f3'\n",
    "    ])\n",
    "]\n"
   ]
  },
  {
   "cell_type": "markdown",
   "id": "4341f192",
   "metadata": {},
   "source": [
    "#### Calculating the ELO ratings per model:"
   ]
  },
  {
   "cell_type": "code",
   "execution_count": null,
   "id": "855afa12",
   "metadata": {},
   "outputs": [],
   "source": [
    "# Initialize ratings dictionary with a default rating (e.g., 1000 for each model)\n",
    "elo_ratings = {model: 1000 for model in pd.concat([filtered_df[\"model_a\"], filtered_df[\"model_b\"]]).unique()}\n",
    "\n",
    "def update_elo(winner, loser, k=32):\n",
    "    \"\"\"Adjust the ELO rating based on the winner and loser models.\"\"\"\n",
    "    winner_rating = elo_ratings[winner]\n",
    "    loser_rating = elo_ratings[loser]\n",
    "\n",
    "    # expected scores\n",
    "    expected_winner = 1 / (1 + 10 ** ((loser_rating - winner_rating) / 400))\n",
    "    expected_loser = 1 - expected_winner\n",
    "\n",
    "    # update ratings\n",
    "    elo_ratings[winner] += k * (1 - expected_winner)\n",
    "    elo_ratings[loser] += k * (0 - expected_loser)\n",
    "\n",
    "# Loop over each row to adjust ELO ratings\n",
    "for i, row in filtered_df.iterrows():\n",
    "    if row[\"winner\"] == \"model_a\":\n",
    "        update_elo(row[\"model_a\"], row[\"model_b\"])\n",
    "    elif row[\"winner\"] == \"model_b\":\n",
    "        update_elo(row[\"model_b\"], row[\"model_a\"])\n",
    "\n",
    "# convert ELO ratings to a sorted DataFrame\n",
    "elo_df = pd.DataFrame(list(elo_ratings.items()), columns=[\"model\", \"ELO_rating\"]).sort_values(by=\"ELO_rating\", ascending=False)\n",
    "print(\"ELO ratings per model:\")\n",
    "print(elo_df)\n",
    "\n",
    "\n"
   ]
  },
  {
   "cell_type": "markdown",
   "id": "c24b9ef2",
   "metadata": {},
   "source": [
    "### Create column where the ELO ratings are compared, model a minus model b, to give a measure of which model is stronger so that we can include the prompt features as well in task A (predicting whether model a or model b will win)"
   ]
  },
  {
   "cell_type": "code",
   "execution_count": null,
   "id": "950fc06e",
   "metadata": {},
   "outputs": [],
   "source": [
    "filtered_df['elo_modela_minus_modelb'] = filtered_df.apply(\n",
    "    lambda row: elo_ratings[row['model_a']] - elo_ratings[row['model_b']],\n",
    "    axis=1\n",
    ")\n",
    "\n",
    "# Display the first few rows to verify the new column\n",
    "filtered_df.columns"
   ]
  },
  {
   "cell_type": "markdown",
   "id": "b7953143",
   "metadata": {},
   "source": [
    "## Topics feature"
   ]
  },
  {
   "cell_type": "code",
   "execution_count": null,
   "id": "5c04175d",
   "metadata": {},
   "outputs": [],
   "source": [
    "# Define regex patterns and their corresponding feature names\n",
    "core_topics = {\n",
    "    r'math': 'topic_math',\n",
    "    r'fact\\w*': 'topic_fact',\n",
    "    r'creativ\\w*': 'topic_creative',\n",
    "    r'problem[ -]?solving': 'topic_problem_solving'\n",
    "}\n",
    "\n",
    "# Apply one-hot encoding for the defined core topics\n",
    "for pattern, feature_name in core_topics.items():\n",
    "    filtered_df[feature_name] = filtered_df['topic_modeling_3'].str.contains(pattern, case=False, na=False, regex=True).astype(int)\n",
    "\n",
    "# Check the updated DataFrame\n",
    "filtered_df.head()"
   ]
  },
  {
   "cell_type": "markdown",
   "id": "4a953b99",
   "metadata": {},
   "source": [
    "## Auxiliary verbs feature"
   ]
  },
  {
   "cell_type": "code",
   "execution_count": null,
   "id": "3c138306",
   "metadata": {},
   "outputs": [],
   "source": [
    "\n",
    "# Define the modal verbs\n",
    "modal_verbs = ['can', 'could', 'may', 'might', 'shall', 'should', 'will', 'would', 'must', 'have to']\n",
    "\n",
    "# Create a regex pattern (case-insensitive)\n",
    "modal_regex = '|'.join([re.escape(verb) for verb in modal_verbs])\n",
    "\n",
    "# Function to one-hot encode the presence of modal verbs\n",
    "def one_hot_modal_features(df, column_name, modal_regex):\n",
    "    for verb in modal_verbs:\n",
    "        pattern = rf'\\b{re.escape(verb)}\\b'\n",
    "        df[f'{column_name}_contains_{verb.replace(\" \", \"_\")}'] = df[column_name].str.contains(pattern, case=False, na=False).astype(int)\n",
    "    return df\n",
    "\n",
    "# Apply the function to both model_a_response and model_b_response\n",
    "filtered_df = one_hot_modal_features(filtered_df, 'model_a_response', modal_regex)\n",
    "filtered_df = one_hot_modal_features(filtered_df, 'model_b_response', modal_regex)\n",
    "\n",
    "# Display the updated DataFrame with new features\n",
    "filtered_df.head()\n"
   ]
  },
  {
   "cell_type": "code",
   "execution_count": null,
   "id": "7a848273",
   "metadata": {},
   "outputs": [],
   "source": [
    "# Question words feature\n",
    "\n",
    "# Define the question words\n",
    "question_words = ['who', 'where', 'when', 'why', 'what', 'how', 'which']\n",
    "\n",
    "# Function to one-hot encode the presence of question words as 0/1\n",
    "def one_hot_question_features(df, column_name):\n",
    "    for word in question_words:\n",
    "        pattern = rf'\\b{re.escape(word)}\\b'\n",
    "        df[f'{column_name}_contains_{word}'] = (\n",
    "            df[column_name].str.contains(pattern, case=False, na=False).astype(int)\n",
    "        )\n",
    "    return df\n",
    "\n",
    "# Apply the function to the prompt column\n",
    "filtered_df = one_hot_question_features(filtered_df, 'prompt')\n",
    "\n",
    "# Display the updated DataFrame with new features\n",
    "filtered_df.head()\n"
   ]
  },
  {
   "cell_type": "code",
   "execution_count": null,
   "id": "56f6784a",
   "metadata": {},
   "outputs": [],
   "source": [
    "def extract_textblob_features(df, text_column):\n",
    "    \"\"\" \n",
    "    To extract sentiment and linguistic features utilizing TextBlob\n",
    "\n",
    "    Parameters:\n",
    "        df: Input Dataframe\n",
    "        text_column: Name of column with text data\n",
    "\n",
    "    Returns:\n",
    "        df: Updated Dataframe with the extracted features as new columns\n",
    "    \"\"\"\n",
    "    # initialize lists to store the extracted features\n",
    "    polarity = [] # sentiment polarity scores\n",
    "    noun_count = [] # number of nouns \n",
    "    verb_count = [] # number of verbs\n",
    "\n",
    "    # loop through each row in column \n",
    "    for text in df[text_column]:\n",
    "        # Create a TextBlob object to analyze the text\n",
    "        blob = TextBlob(text)\n",
    "        polarity.append(blob.sentiment.polarity)\n",
    "        # count nouns\n",
    "        noun_count.append(len([word for word, pos in blob.tags if pos.startswith('NN')]))\n",
    "        # count verbs \n",
    "        verb_count.append(len([word for word, pos in blob.tags if pos.startswith('VB')]))\n",
    "\n",
    "    # Add extracted features to the DataFrame as new columns \n",
    "    df[f\"{text_column}_polarity\"] = polarity\n",
    "    df[f\"{text_column}_noun_count\"] = noun_count\n",
    "    df[f\"{text_column}_verb_count\"] = verb_count\n",
    "\n",
    "    return df\n",
    "\n",
    "# Use textblob featuures on prompts and responses\n",
    "filtered_df = extract_textblob_features(filtered_df, 'prompt')\n",
    "filtered_df = extract_textblob_features(filtered_df, 'model_a_response')\n",
    "filtered_df = extract_textblob_features(filtered_df, 'model_b_response')\n",
    "test_merged_df = extract_textblob_features(test_merged_df, 'prompt')\n",
    "test_merged_df = extract_textblob_features(test_merged_df, 'model_a_response')\n",
    "test_merged_df = extract_textblob_features(test_merged_df, 'model_b_response')"
   ]
  },
  {
   "cell_type": "code",
   "execution_count": null,
   "id": "7e90e997",
   "metadata": {},
   "outputs": [],
   "source": [
    "## Feature engineering: interaction terms\n",
    "\n",
    "# Will the combined length of both of the models' responses have an impact on hardness score?\n",
    "filtered_df.loc[:, 'length_interaction'] = (filtered_df['response_a_length'] * filtered_df['response_b_length'])\n",
    "\n",
    "# Interaction between response lengths and sentiment polarity\n",
    "# Thought process: a long positive response may be deemed a low hardness score and a long negative response may be deemed a high hardness score\n",
    "filtered_df['response_a_length_polarity'] = (filtered_df['response_a_length'] * filtered_df['model_a_response_polarity'])\n",
    "filtered_df['response_b_length_polarity'] = (filtered_df['response_b_length'] * filtered_df['model_b_response_polarity'])\n",
    "\n",
    "# Will this interaction between ELO ratings provide insight into whether difference in the skill level between models contributes to hardness scores?\n",
    "filtered_df['elo_modela_minus_modelb'] = filtered_df.apply(lambda row: elo_ratings[row['model_a']] - elo_ratings[row['model_b']], axis=1)"
   ]
  },
  {
   "cell_type": "markdown",
   "id": "e99ffb24",
   "metadata": {},
   "source": [
    "### Feature Set"
   ]
  },
  {
   "cell_type": "code",
   "execution_count": null,
   "id": "58de5ea6",
   "metadata": {},
   "outputs": [],
   "source": [
    "selected_features = ['prompt_length',\n",
    "    'length_interaction', 'elo_modela_minus_modelb',\n",
    "    'prompt_noun_count', 'prompt_verb_count', \n",
    "    'response_a_length_polarity', 'response_b_length_polarity',\n",
    "    'model_a_response_noun_count', 'model_a_response_verb_count',\n",
    "    'model_b_response_noun_count', 'model_b_response_verb_count', 'topic_math', 'topic_creative']"
   ]
  },
  {
   "cell_type": "code",
   "execution_count": null,
   "id": "4f15c816",
   "metadata": {},
   "outputs": [],
   "source": [
    "# ensure y is cleaned first\n",
    "y = filtered_df['hardness_score']\n",
    "y = y.dropna()  # drop NaN values\n",
    "y = y[~np.isinf(y)]  # drop inf values\n",
    "\n",
    "# ensure X aligns with cleaned y\n",
    "X = filtered_df[selected_features].loc[y.index]\n",
    "\n",
    "# drop missing or infinite values in X\n",
    "X = X.dropna()\n",
    "#X = X[~np.isinf(X).any(axis=1)]\n",
    "\n",
    "# aligns X and y indices after filtering\n",
    "X, y = X.align(y, axis=0)\n"
   ]
  },
  {
   "cell_type": "code",
   "execution_count": null,
   "id": "6bb4d571",
   "metadata": {},
   "outputs": [],
   "source": [
    "# iterate over each column in the feature set to visualize its the relationship with hardness score\n",
    "for column in X.columns:\n",
    "    plt.scatter(X[column], y)\n",
    "    plt.title(f\"{column} vs Hardness Score\")\n",
    "    plt.xlabel(column)\n",
    "    plt.ylabel(\"Hardness Score\")\n",
    "    plt.show()\n"
   ]
  },
  {
   "cell_type": "markdown",
   "id": "966e7511",
   "metadata": {},
   "source": [
    "### Metrics"
   ]
  },
  {
   "cell_type": "code",
   "execution_count": null,
   "id": "ce80d4dd",
   "metadata": {},
   "outputs": [],
   "source": [
    "def calculate_performance_metrics(y_true, y_pred, y_train=None, y_train_pred=None, y_val=None, y_val_pred=None):\n",
    "    \"\"\"\n",
    "    Calculates various performance metrics for training, testing, and validation sets.\n",
    "    \n",
    "    Parameters:\n",
    "        y_true: True values for the test set.\n",
    "        y_pred: Predicted values for the test set.\n",
    "        y_train: True values for the training set (optional).\n",
    "        y_train_pred: Predicted values for the training set (optional).\n",
    "        y_val: True values for the validation set (optional).\n",
    "        y_val_pred: Predicted values for the validation set (optional).\n",
    "    \n",
    "    Returns:\n",
    "        metrics: Dictionary containing performance metrics.\n",
    "    \"\"\"\n",
    "    metrics = {\n",
    "        \"Test RMSE\": np.sqrt(mean_squared_error(y_true, y_pred)),\n",
    "        \"Test MSE\": mean_squared_error(y_true, y_pred),\n",
    "        \"Test MAE\": mean_absolute_error(y_true, y_pred),\n",
    "        \"Test R² Score\": r2_score(y_true, y_pred),\n",
    "        \"Test Explained Variance\": explained_variance_score(y_true, y_pred),\n",
    "        \"Test Residual Std Dev\": np.std(y_true - y_pred),\n",
    "    }\n",
    "    \n",
    "    if y_train is not None and y_train_pred is not None:\n",
    "        metrics.update({\n",
    "            \"Train RMSE\": np.sqrt(mean_squared_error(y_train, y_train_pred)),\n",
    "            \"Train MSE\": mean_squared_error(y_train, y_train_pred),\n",
    "            \"Train MAE\": mean_absolute_error(y_train, y_train_pred),\n",
    "            \"Train R² Score\": r2_score(y_train, y_train_pred),\n",
    "            \"Train Explained Variance\": explained_variance_score(y_train, y_train_pred),\n",
    "        })\n",
    "    \n",
    "    if y_val is not None and y_val_pred is not None:\n",
    "        metrics.update({\n",
    "            \"Validation RMSE\": np.sqrt(mean_squared_error(y_val, y_val_pred)),\n",
    "            \"Validation MSE\": mean_squared_error(y_val, y_val_pred),\n",
    "            \"Validation MAE\": mean_absolute_error(y_val, y_val_pred),\n",
    "            \"Validation R² Score\": r2_score(y_val, y_val_pred),\n",
    "            \"Validation Explained Variance\": explained_variance_score(y_val, y_val_pred),\n",
    "        })\n",
    "    \n",
    "    return metrics\n",
    "\n",
    "# Function to display performance metrics\n",
    "def display_performance_metrics(metrics):\n",
    "    \"\"\"\n",
    "    Display performance metrics in a readable format.\n",
    "    \n",
    "    Parameters:\n",
    "        metrics: Dictionary of performance metrics to display.\n",
    "    \"\"\"\n",
    "    print(\"\\nPerformance Metrics:\")\n",
    "    for metric_name, value in metrics.items():\n",
    "        print(f\"{metric_name}: {value:.2f}\")\n"
   ]
  },
  {
   "cell_type": "code",
   "execution_count": null,
   "id": "9343adf1",
   "metadata": {},
   "outputs": [],
   "source": [
    " #function to calculate range-specific RMSE\n",
    "def calculate_range_rmse(y_true, y_pred, low_threshold=3, mid_threshold=6):\n",
    "    \"\"\" \n",
    "    Calculate RMSE range scores\n",
    "    \"\"\"\n",
    "    y_pred_rounded = np.round(y_pred)\n",
    "    rmse_low = np.sqrt(mean_squared_error(y_true[y_true <= low_threshold], y_pred_rounded[y_true <= low_threshold])) if (y_true <= low_threshold).sum() > 0 else np.nan\n",
    "    rmse_mid = np.sqrt(mean_squared_error(y_true[(y_true > low_threshold) & (y_true <= mid_threshold)], y_pred_rounded[(y_true > low_threshold) & (y_true <= mid_threshold)])) if ((y_true > low_threshold) & (y_true <= mid_threshold)).sum() > 0 else np.nan\n",
    "    rmse_high = np.sqrt(mean_squared_error(y_true[y_true > mid_threshold], y_pred_rounded[y_true > mid_threshold])) if (y_true > mid_threshold).sum() > 0 else np.nan\n",
    "    return rmse_low, rmse_mid, rmse_high\n",
    "\n",
    "# function to display range-specific RMSE\n",
    "def display_range_rmse(rmse_low, rmse_mid, rmse_high):\n",
    "    \"\"\" \n",
    "    Displays RMSE range scores\n",
    "    \"\"\"\n",
    "    print(\"\\nRange-Specific RMSE:\")\n",
    "    print(f\"Low Range (<=3): {rmse_low:.2f}\" if not np.isnan(rmse_low) else \"Low Range (<=3): N/A\")\n",
    "    print(f\"Mid Range (3-6): {rmse_mid:.2f}\" if not np.isnan(rmse_mid) else \"Mid Range (3-6): N/A\")\n",
    "    print(f\"High Range (>6): {rmse_high:.2f}\" if not np.isnan(rmse_high) else \"High Range (>6): N/A\")\n"
   ]
  },
  {
   "cell_type": "markdown",
   "id": "3b19648e",
   "metadata": {},
   "source": [
    "### Model"
   ]
  },
  {
   "cell_type": "code",
   "execution_count": null,
   "id": "307559c4",
   "metadata": {},
   "outputs": [],
   "source": [
    "\n",
    "# Drop rows with missing target values\n",
    "filtered_df = filtered_df.dropna(subset=['hardness_score'])\n",
    "\n",
    "# Extract features and target variable\n",
    "X = filtered_df[selected_features]\n",
    "y = filtered_df['hardness_score']\n",
    "\n",
    "# K-Fold Cross-Validation and Random Forest Regressor\n",
    "kf = KFold(n_splits=5, shuffle=True, random_state=42)\n",
    "rf_model = RandomForestRegressor(\n",
    "    n_estimators=200,\n",
    "    max_depth=None,\n",
    "    min_samples_split=2,\n",
    "    min_samples_leaf=1,\n",
    "    random_state=42\n",
    ")\n",
    "\n",
    "# Storing all the metrics\n",
    "rmse_scores_low, rmse_scores_mid, rmse_scores_high = [], [], []\n",
    "training_scores, validation_scores = [], []\n",
    "training_mse, validation_mse = [], []\n",
    "training_mae, validation_mae = [], []\n",
    "y_true_all, y_pred_all = [], []\n",
    "\n",
    "# K-Fold Cross-Validation loop\n",
    "for fold, (train_idx, test_idx) in enumerate(kf.split(X), 1):\n",
    "    print(f\"Processing Fold {fold}...\")\n",
    "    \n",
    "    X_train, X_test = X.iloc[train_idx], X.iloc[test_idx]\n",
    "    y_train, y_test = y.iloc[train_idx], y.iloc[test_idx]\n",
    "\n",
    "    # Train model\n",
    "    rf_model.fit(X_train, y_train)\n",
    "\n",
    "    # Predictions\n",
    "    y_pred_train = rf_model.predict(X_train)\n",
    "    y_pred_test = rf_model.predict(X_test)\n",
    "    y_pred_test_rounded = np.round(y_pred_test)\n",
    "\n",
    "    # True and predicted values for plotting\n",
    "    y_true_all.extend(y_test)\n",
    "    y_pred_all.extend(y_pred_test_rounded)\n",
    "\n",
    "    # Training and validation R² scores calculations\n",
    "    training_scores.append(rf_model.score(X_train, y_train))\n",
    "    validation_scores.append(rf_model.score(X_test, y_test))\n",
    "\n",
    "    # Training and validation MSE/MAE\n",
    "    training_mse.append(mean_squared_error(y_train, y_pred_train))\n",
    "    validation_mse.append(mean_squared_error(y_test, y_pred_test))\n",
    "    training_mae.append(mean_absolute_error(y_train, y_pred_train))\n",
    "    validation_mae.append(mean_absolute_error(y_test, y_pred_test))\n",
    "\n",
    "    # Calculate RMSE for each range\n",
    "    rmse_low, rmse_mid, rmse_high = calculate_range_rmse(y_test, y_pred_test)\n",
    "    if not np.isnan(rmse_low): rmse_scores_low.append(rmse_low)\n",
    "    if not np.isnan(rmse_mid): rmse_scores_mid.append(rmse_mid)\n",
    "    if not np.isnan(rmse_high): rmse_scores_high.append(rmse_high)\n",
    "\n",
    "# Calculate metrics\n",
    "average_metrics = calculate_performance_metrics(np.array(y_true_all), np.array(y_pred_all))\n",
    "rmse_low_avg = np.mean(rmse_scores_low)\n",
    "rmse_mid_avg = np.mean(rmse_scores_mid)\n",
    "rmse_high_avg = np.mean(rmse_scores_high)\n",
    "\n",
    "# Display overall metrics\n",
    "print(\"\\nOverall Metrics:\")\n",
    "display_performance_metrics(average_metrics)\n",
    "\n",
    "# Display RMSE by range\n",
    "display_range_rmse(rmse_low_avg, rmse_mid_avg, rmse_high_avg)\n",
    "\n",
    "# Display training and validation metrics\n",
    "print(\"\\nTraining and Validation Metrics (Averages Across Folds):\")\n",
    "print(f\"Training R²: {np.mean(training_scores):.2f}\")\n",
    "print(f\"Validation R²: {np.mean(validation_scores):.2f}\")\n",
    "print(f\"Training MSE: {np.mean(training_mse):.2f}\")\n",
    "print(f\"Validation MSE: {np.mean(validation_mse):.2f}\")\n",
    "print(f\"Training MAE: {np.mean(training_mae):.2f}\")\n",
    "print(f\"Validation MAE: {np.mean(validation_mae):.2f}\")\n"
   ]
  },
  {
   "cell_type": "code",
   "execution_count": null,
   "id": "a2e6f74e",
   "metadata": {},
   "outputs": [],
   "source": [
    "rf_model.fit(X_train, y_train)\n",
    "feature_importances = pd.Series(rf_model.feature_importances_, index=X_train.columns)\n",
    "print(feature_importances.sort_values(ascending=False))"
   ]
  },
  {
   "cell_type": "markdown",
   "id": "ec9a10fb",
   "metadata": {},
   "source": [
    "### Visualizations"
   ]
  },
  {
   "cell_type": "code",
   "execution_count": null,
   "id": "5881e9aa",
   "metadata": {},
   "outputs": [],
   "source": [
    "\n",
    "def plot_true_vs_predicted(performance_df):\n",
    "    \"\"\"\n",
    "    Visualizes the relationship between true and predicted values\n",
    "    \"\"\"\n",
    "    plt.figure(figsize=(10, 6))\n",
    "    sns.scatterplot(x='True Values', y='Predicted Values', data=performance_df, alpha=0.7)\n",
    "    plt.plot([performance_df['True Values'].min(), performance_df['True Values'].max()],\n",
    "             [performance_df['True Values'].min(), performance_df['True Values'].max()],\n",
    "             color='red', linestyle='--', label='Perfect Prediction')\n",
    "    plt.title('True vs Predicted Values')\n",
    "    plt.xlabel('True Hardness Scores')\n",
    "    plt.ylabel('Predicted Hardness Scores')\n",
    "    plt.legend()\n",
    "    plt.show()\n",
    "\n",
    "def plot_residuals(performance_df):\n",
    "    \"\"\"\n",
    "    Displays the distribution of residuals (True - Predicted)\n",
    "    \"\"\"\n",
    "    residuals = performance_df['Residuals']\n",
    "    plt.figure(figsize=(10, 6))\n",
    "    sns.histplot(residuals, kde=True, bins=30, color='blue')\n",
    "    plt.title('Residual Distribution')\n",
    "    plt.xlabel('Residuals (True - Predicted)')\n",
    "    plt.ylabel('Frequency')\n",
    "    plt.axvline(0, color='red', linestyle='--')\n",
    "    plt.show()\n",
    "\n",
    "def plot_feature_importance(model, feature_names):\n",
    "    \"\"\"\n",
    "    Visualizes the importance of features as determined by the model\n",
    "    \"\"\"\n",
    "    feature_importance = model.feature_importances_\n",
    "    importance_df = pd.DataFrame({\n",
    "        'Feature': feature_names,\n",
    "        'Importance': feature_importance\n",
    "    }).sort_values(by='Importance', ascending=False)\n",
    "    plt.figure(figsize=(12, 8))\n",
    "    sns.barplot(x='Importance', y='Feature', data=importance_df, palette='viridis')\n",
    "    plt.title('Feature Importance')\n",
    "    plt.xlabel('Importance')\n",
    "    plt.ylabel('Features')\n",
    "    plt.show()\n",
    "\n"
   ]
  },
  {
   "cell_type": "code",
   "execution_count": null,
   "id": "af781c68",
   "metadata": {},
   "outputs": [],
   "source": [
    "# Create the performance DataFrame\n",
    "performance_df = pd.DataFrame({\n",
    "    'True Values': y_true_all,\n",
    "    'Predicted Values': y_pred_all\n",
    "})\n",
    "performance_df.head()"
   ]
  },
  {
   "cell_type": "code",
   "execution_count": null,
   "id": "26af3247",
   "metadata": {},
   "outputs": [],
   "source": [
    "# True vs predicted plot\n",
    "plot_true_vs_predicted(performance_df)\n"
   ]
  },
  {
   "cell_type": "code",
   "execution_count": null,
   "id": "0f107579",
   "metadata": {},
   "outputs": [],
   "source": [
    " # Residual plots\n",
    "plot_residuals(performance_df)"
   ]
  },
  {
   "cell_type": "code",
   "execution_count": null,
   "id": "0e958ddb",
   "metadata": {},
   "outputs": [],
   "source": [
    "# Plot feature importance\n",
    "plot_feature_importance(rf_model, selected_features)"
   ]
  },
  {
   "cell_type": "code",
   "execution_count": null,
   "id": "dc2f3645",
   "metadata": {},
   "outputs": [],
   "source": [
    "# Correlation Heatmap\n",
    "def plot_correlation_heatmap(data, target_column):\n",
    "    \"\"\"\n",
    "    Displays a Correlation Heatmap\n",
    "    \"\"\"\n",
    "    corr = data.corr()\n",
    "    plt.figure(figsize=(12, 8))\n",
    "    sns.heatmap(corr, annot=True, cmap=\"coolwarm\", fmt=\".2f\")\n",
    "    plt.title(\"Correlation Heatmap\")\n",
    "    plt.show()\n",
    "    \n",
    "    # Correlation with target variable\n",
    "    plt.figure(figsize=(6, 4))\n",
    "    target_corr = corr[target_column].sort_values(ascending=False)\n",
    "    sns.barplot(x=target_corr, y=target_corr.index)\n",
    "    plt.title(f\"Correlation with {target_column}\")\n",
    "    plt.show()\n",
    "\n",
    "# Correlation heatmap (pass your filtered_df and target column name)\n",
    "plot_correlation_heatmap(filtered_df[selected_features + ['hardness_score']], 'hardness_score')\n"
   ]
  },
  {
   "cell_type": "code",
   "execution_count": null,
   "id": "c545f69a",
   "metadata": {},
   "outputs": [],
   "source": []
  }
 ],
 "metadata": {
  "kernelspec": {
   "display_name": "base",
   "language": "python",
   "name": "python3"
  },
  "language_info": {
   "codemirror_mode": {
    "name": "ipython",
    "version": 3
   },
   "file_extension": ".py",
   "mimetype": "text/x-python",
   "name": "python",
   "nbconvert_exporter": "python",
   "pygments_lexer": "ipython3",
   "version": "3.12.4"
  }
 },
 "nbformat": 4,
 "nbformat_minor": 5
}
