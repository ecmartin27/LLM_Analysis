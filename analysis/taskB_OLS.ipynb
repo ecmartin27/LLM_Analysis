{
 "cells": [
  {
   "cell_type": "markdown",
   "id": "de8c33da",
   "metadata": {},
   "source": [
    "# Task B- Ordinary Least Squares Regression"
   ]
  },
  {
   "cell_type": "markdown",
   "id": "8213f304-3b03-44a0-a556-517bae8e39a8",
   "metadata": {},
   "source": [
    " ## Loading the Datasets"
   ]
  },
  {
   "cell_type": "code",
   "execution_count": null,
   "id": "4ec961e4",
   "metadata": {},
   "outputs": [],
   "source": [
    "import pandas as pd\n",
    "import numpy as np\n",
    "import matplotlib.pyplot as plt\n",
    "import seaborn as sns\n",
    "from textblob import TextBlob\n",
    "from sklearn.preprocessing import MinMaxScaler\n",
    "from sklearn.model_selection import train_test_split\n",
    "import numpy as np\n",
    "import pandas as pd\n",
    "import statsmodels.api as sm\n",
    "from sklearn.metrics import mean_squared_error\n",
    "from sklearn.model_selection import KFold\n",
    "import re\n"
   ]
  },
  {
   "cell_type": "code",
   "execution_count": null,
   "id": "fb481e9b-ebe3-4e8d-84bb-072434d68129",
   "metadata": {},
   "outputs": [],
   "source": [
    "sns.set_theme(style=\"whitegrid\")\n",
    "\n",
    "# Main Dataset\n",
    "\n",
    "# Conversation Data -- we will use this data in the \"Conversation Data\" section\n",
    "\n",
    "df = pd.read_json(\n",
    "    \"data/chatbot-arena-conversations.jsonl.gz\",\n",
    "    compression=\"gzip\",\n",
    "    lines=True)\n",
    "df.head(5)"
   ]
  },
  {
   "cell_type": "code",
   "execution_count": null,
   "id": "09ce013d-8710-46a3-aff2-5fe0c330a0d1",
   "metadata": {},
   "outputs": [],
   "source": [
    "# Auxiliary Datasets\n",
    "\n",
    "# Embedding Data -- we will use this data in the \"Embedding Data\" section\n",
    "prompt_embeddings = np.load(\n",
    "    \"data/chatbot-arena-prompts-embeddings.npy\"\n",
    ")\n",
    "\n",
    "response_a_embeddings = np.load(\n",
    "    \"data/chatbot-arena-model_a_response-embeddings.npy\"\n",
    ")\n",
    "\n",
    "response_b_embeddings = np.load(\n",
    "    \"data/chatbot-arena-model_b_response-embeddings.npy\"\n",
    ")\n",
    "\n",
    "# Topic Modeling and Hardness Score Data -- we will use this data in the \"Topic Modeling and Hardness Score Data\" section\n",
    "topic_and_hardness = pd.read_json(\n",
    "    \"data/chatbot-arena-gpt3-scores.jsonl.gz\",\n",
    "    lines=True,\n",
    "    compression=\"gzip\"\n",
    ")"
   ]
  },
  {
   "cell_type": "code",
   "execution_count": null,
   "id": "35373960",
   "metadata": {},
   "outputs": [],
   "source": [
    "# Extracting the prompt\n",
    "df[\"prompt\"] = df[\"conversation_a\"].str[0].str[\"content\"]\n",
    "df[\"prompt\"].head(1)\n",
    "df[\"prompt\"].value_counts()"
   ]
  },
  {
   "cell_type": "markdown",
   "id": "78b49b22",
   "metadata": {},
   "source": [
    "#### Establishing a \"winner\" column to display the outcome of the competition between model a and model b."
   ]
  },
  {
   "cell_type": "code",
   "execution_count": null,
   "id": "e8a73452",
   "metadata": {},
   "outputs": [],
   "source": [
    "df['winner_name'] = np.where(\n",
    "    df['winner'] == 'model_a', df['model_a'],\n",
    "    np.where(\n",
    "        df['winner'] == 'model_b', df['model_b'],\n",
    "        np.where(\n",
    "            df['winner'] == 'tie(bothbad)', 'tie(bothbad)',\n",
    "            df['model_a'] + ' & ' + df['model_b']))\n",
    ")"
   ]
  },
  {
   "cell_type": "code",
   "execution_count": null,
   "id": "4c59caa3",
   "metadata": {},
   "outputs": [],
   "source": [
    "#create one-hot encodings for the winning chatbot model\n",
    "#this will attribute a value of 1 to the model if that model wins or there is a tie(bothgood) otherwise it gives it a 0\n",
    "#there were around 20 chatbots so i think it might be too chaotic to do this for individual chatbots\n",
    "df['one_hot_a'] = np.where(\n",
    "    (df['winner'] == 'model_a') | (df['winner'] == 'tie'), 1, 0)\n",
    "\n",
    "df['one_hot_b'] = np.where(\n",
    "    (df['winner'] == 'model_b') | (df['winner'] == 'tie'), 1, 0)\n"
   ]
  },
  {
   "cell_type": "code",
   "execution_count": null,
   "id": "b71e0ec8",
   "metadata": {},
   "outputs": [],
   "source": [
    "#add columns to separate responses from the conversation (we already did this for the prompt)\n",
    "df[\"model_a_response\"] = df[\"conversation_a\"].str[1].str[\"content\"]\n",
    "df[\"model_b_response\"] = df[\"conversation_b\"].str[1].str[\"content\"]\n",
    "df[\"model_a_response\"][2]"
   ]
  },
  {
   "cell_type": "code",
   "execution_count": null,
   "id": "69127afd",
   "metadata": {},
   "outputs": [],
   "source": [
    "#create columns for prompt and response lengths\n",
    "df[\"prompt_length\"] = df[\"prompt\"].str.len()\n",
    "df[\"prompt_length\"].describe() #use this if you want to know statistics about prompt and response lengths\n",
    "\n",
    "df[\"response_a_length\"] = df[\"model_a_response\"].str.len()\n",
    "\n",
    "\n",
    "df[\"response_b_length\"] = df[\"model_b_response\"].str.len()\n"
   ]
  },
  {
   "cell_type": "code",
   "execution_count": null,
   "id": "a8ac992c",
   "metadata": {},
   "outputs": [],
   "source": [
    "#assigns a numerical value to the name of the winning chatbot\n",
    "#this might be helpful for one hot encodings - if not we can take it out later\n",
    "\n",
    "#create function to assign numerical values to unique names\n",
    "def unique_name_ids(names):\n",
    "    # Create an empty list to store unique names\n",
    "    unique_names = set()\n",
    "\n",
    "    # Split names at the & and strip whitespace\n",
    "    for name in names:\n",
    "        parts = [part.strip() for part in name.split('&')]\n",
    "        unique_names.update(parts)  # Add unique parts to the set\n",
    "\n",
    "    # map names to unique id numbers\n",
    "    name_to_id = {name: idx for idx, name in enumerate(unique_names)}\n",
    "\n",
    "    # store list of ids and names\n",
    "    ids = []\n",
    "    for name in names:\n",
    "        parts = [part.strip() for part in name.split('&')]\n",
    "        name_ids = [name_to_id[part] for part in parts]\n",
    "        ids.append(name_ids)\n",
    "\n",
    "    return ids\n",
    "\n",
    "# Apply the function to create a new column\n",
    "df['winner_name_id'] = unique_name_ids(df['winner_name'])"
   ]
  },
  {
   "cell_type": "markdown",
   "id": "2a93ab0e",
   "metadata": {},
   "source": [
    "### Engineering feature of dot product similarity between embeddings"
   ]
  },
  {
   "cell_type": "code",
   "execution_count": null,
   "id": "dec64caa",
   "metadata": {},
   "outputs": [],
   "source": [
    "assert len(prompt_embeddings) == len(df), \"Mismatch between prompt embeddings and DataFrame rows.\"\n",
    "assert len(response_a_embeddings) == len(df), \"Mismatch between response_a embeddings and DataFrame rows.\"\n",
    "assert len(response_b_embeddings) == len(df), \"Mismatch between response_b embeddings and DataFrame rows.\"\n",
    "\n",
    "# Compute dot products and add them as new columns to the original DataFrame\n",
    "df['similarity_prompt_response_a'] = [\n",
    "    np.dot(prompt, response_a)\n",
    "    for prompt, response_a in zip(prompt_embeddings, response_a_embeddings)\n",
    "]\n",
    "\n",
    "df['similarity_prompt_response_b'] = [\n",
    "    np.dot(prompt, response_b)\n",
    "    for prompt, response_b in zip(prompt_embeddings, response_b_embeddings)\n",
    "]\n"
   ]
  },
  {
   "cell_type": "markdown",
   "id": "aef10623",
   "metadata": {},
   "source": [
    "#### Converting the score_value_\"n\" columns, in topic_and_hardness dataframe, to numeric values and stored in the column \"hardness_score\""
   ]
  },
  {
   "cell_type": "code",
   "execution_count": null,
   "id": "a710e695",
   "metadata": {},
   "outputs": [],
   "source": [
    "#convert hardness scores from list to numeric\n",
    "topic_and_hardness['score_value_1'] = pd.to_numeric(topic_and_hardness['score_value_1'], errors='coerce')\n",
    "topic_and_hardness['score_value_2'] = pd.to_numeric(topic_and_hardness['score_value_2'], errors='coerce')\n",
    "topic_and_hardness['score_value_3'] = pd.to_numeric(topic_and_hardness['score_value_3'], errors='coerce')"
   ]
  },
  {
   "cell_type": "code",
   "execution_count": null,
   "id": "f4ae4dc2",
   "metadata": {},
   "outputs": [],
   "source": [
    "topic_and_hardness.drop_duplicates(subset='question_id', inplace=True)"
   ]
  },
  {
   "cell_type": "code",
   "execution_count": null,
   "id": "bef7c682",
   "metadata": {},
   "outputs": [],
   "source": [
    "#this will merge the mean value of the hardness scores and the topic_modeling 3 with the main data set\n",
    "topic_and_hardness['hardness_score'] = topic_and_hardness[['score_value_1', 'score_value_2', 'score_value_3']].mean(axis=1)\n",
    "merged_df = df.merge(topic_and_hardness[['question_id', 'hardness_score', 'topic_modeling_3']], on='question_id', how='left')"
   ]
  },
  {
   "cell_type": "markdown",
   "id": "15b30711",
   "metadata": {},
   "source": [
    "#### Removing question ids that produce null values and storing the final dataset into filtered_df"
   ]
  },
  {
   "cell_type": "code",
   "execution_count": null,
   "id": "9ba997bc",
   "metadata": {},
   "outputs": [],
   "source": [
    "# To Do: fetch code where we identified these question IDs @caroline\n",
    "# This will remove question ids that produced null values for topic_and_hardness\n",
    "filtered_df = merged_df[\n",
    "    ~merged_df['question_id'].isin([\n",
    "        'e6d45ead33114cca8ee3cfa028517eff',\n",
    "        'addaa796ee094f029f8014ea1468df8a',\n",
    "        'd37eb99864fa41ecab49026abdddb53e',\n",
    "        '6da02001e74041d0947982fb4d05db9e',\n",
    "        'd93e36df73e84aa2ade15d4a038c098f',\n",
    "        '50b63f92bc5948218e1555d1eae17797',\n",
    "        '8277b16d9a0845d694a33c04f446926c',\n",
    "        'd56d698d4c1c495682a366f2a78fcb77',\n",
    "        '86c7abedb5f84b7ea752cc98d324d387',\n",
    "        '974569d7b9c74ca591f1922bf3722266',\n",
    "        'ba3cfbae941946c6a41ea725b46f3aa7',\n",
    "        '283be8724d674cb6a74da59d0c12ea16',\n",
    "        'fbd400babd914eb1ad6202b4400d6beb',\n",
    "        '087b90bf76ed4c409b7c7bd5d6b0d6c5',\n",
    "        'f9ad250d0194489b8b9f12d31386aab1',\n",
    "        '7e371a23981847c7b19bc61195f11eda',\n",
    "        'f55b273603754c0d92f5139351ca0d02',\n",
    "        '255e1466eaf14cc2ba93040776c0c440',\n",
    "        '6979b646271e46f4a329a5e6acaeed38',\n",
    "        'ed7fa335d5524295b1dd79452778d26c',\n",
    "        'f794c699e4964b11a1373976be5b0944',\n",
    "        'c92bcab701cc46649368fc121b84ccc1',\n",
    "        'a632607132cf4908883fd262102714c9',\n",
    "        'a0857d64b4954ea6bd75c2406c3dd32c',\n",
    "        'e4a1fc8a9462475d95022914cb9f5b03',\n",
    "        'c7aa752f61dc46d093dc86713686f6f3'\n",
    "    ])\n",
    "]\n"
   ]
  },
  {
   "cell_type": "markdown",
   "id": "4341f192",
   "metadata": {},
   "source": [
    "#### Calculating the ELO ratings per model:"
   ]
  },
  {
   "cell_type": "code",
   "execution_count": null,
   "id": "855afa12",
   "metadata": {},
   "outputs": [],
   "source": [
    "# Initialize ratings dictionary with a default rating (e.g., 1000 for each model)\n",
    "elo_ratings = {model: 1000 for model in pd.concat([filtered_df[\"model_a\"], filtered_df[\"model_b\"]]).unique()}\n",
    "\n",
    "def update_elo(winner, loser, k=32):\n",
    "    \"\"\"Adjust the ELO rating based on the winner and loser models.\"\"\"\n",
    "    winner_rating = elo_ratings[winner]\n",
    "    loser_rating = elo_ratings[loser]\n",
    "\n",
    "    # expected scores\n",
    "    expected_winner = 1 / (1 + 10 ** ((loser_rating - winner_rating) / 400))\n",
    "    expected_loser = 1 - expected_winner\n",
    "\n",
    "    # update ratings\n",
    "    elo_ratings[winner] += k * (1 - expected_winner)\n",
    "    elo_ratings[loser] += k * (0 - expected_loser)\n",
    "\n",
    "# Loop over each row to adjust ELO ratings\n",
    "for i, row in filtered_df.iterrows():\n",
    "    if row[\"winner\"] == \"model_a\":\n",
    "        update_elo(row[\"model_a\"], row[\"model_b\"])\n",
    "    elif row[\"winner\"] == \"model_b\":\n",
    "        update_elo(row[\"model_b\"], row[\"model_a\"])\n",
    "\n",
    "# convert ELO ratings to a sorted DataFrame\n",
    "elo_df = pd.DataFrame(list(elo_ratings.items()), columns=[\"model\", \"ELO_rating\"]).sort_values(by=\"ELO_rating\", ascending=False)\n",
    "print(\"ELO ratings per model:\")\n",
    "print(elo_df)\n",
    "\n",
    "\n"
   ]
  },
  {
   "cell_type": "markdown",
   "id": "c24b9ef2",
   "metadata": {},
   "source": [
    "### Create column where the ELO ratings are compared, model a minus model b, to give a measure of which model is stronger so that we can include the prompt features as well in task A (predicting whether model a or model b will win)"
   ]
  },
  {
   "cell_type": "code",
   "execution_count": null,
   "id": "950fc06e",
   "metadata": {},
   "outputs": [],
   "source": [
    "filtered_df['elo_modela_minus_modelb'] = filtered_df.apply(\n",
    "    lambda row: elo_ratings[row['model_a']] - elo_ratings[row['model_b']],\n",
    "    axis=1\n",
    ")\n",
    "\n",
    "# Display the first few rows to verify the new column\n",
    "filtered_df.columns"
   ]
  },
  {
   "cell_type": "markdown",
   "id": "b7953143",
   "metadata": {},
   "source": [
    "## Topics feature"
   ]
  },
  {
   "cell_type": "code",
   "execution_count": null,
   "id": "5c04175d",
   "metadata": {},
   "outputs": [],
   "source": [
    "# Define regex patterns and their corresponding feature names\n",
    "core_topics = {\n",
    "    r'math': 'topic_math',\n",
    "    r'fact\\w*': 'topic_fact',\n",
    "    r'creativ\\w*': 'topic_creative',\n",
    "    r'problem[ -]?solving': 'topic_problem_solving'\n",
    "}\n",
    "\n",
    "# Apply one-hot encoding for the defined core topics\n",
    "for pattern, feature_name in core_topics.items():\n",
    "    filtered_df[feature_name] = filtered_df['topic_modeling_3'].str.contains(pattern, case=False, na=False, regex=True).astype(int)\n",
    "\n",
    "# Check the updated DataFrame\n",
    "filtered_df.head()"
   ]
  },
  {
   "cell_type": "markdown",
   "id": "4a953b99",
   "metadata": {},
   "source": [
    "## Auxiliary verbs feature"
   ]
  },
  {
   "cell_type": "code",
   "execution_count": null,
   "id": "3c138306",
   "metadata": {},
   "outputs": [],
   "source": [
    "# Define the modal verbs\n",
    "modal_verbs = ['can', 'could', 'may', 'might', 'shall', 'should', 'will', 'would', 'must', 'have to']\n",
    "\n",
    "# Create a regex pattern (case-insensitive)\n",
    "modal_regex = '|'.join([re.escape(verb) for verb in modal_verbs])\n",
    "\n",
    "# Function to one-hot encode the presence of modal verbs\n",
    "def one_hot_modal_features(df, column_name, modal_regex):\n",
    "    for verb in modal_verbs:\n",
    "        pattern = rf'\\b{re.escape(verb)}\\b'\n",
    "        df[f'{column_name}_contains_{verb.replace(\" \", \"_\")}'] = df[column_name].str.contains(pattern, case=False, na=False).astype(int)\n",
    "    return df\n",
    "\n",
    "# Apply the function to both model_a_response and model_b_response\n",
    "filtered_df = one_hot_modal_features(filtered_df, 'model_a_response', modal_regex)\n",
    "filtered_df = one_hot_modal_features(filtered_df, 'model_b_response', modal_regex)\n",
    "\n",
    "# Display the updated DataFrame with new features\n",
    "filtered_df.head()\n"
   ]
  },
  {
   "cell_type": "code",
   "execution_count": null,
   "id": "7a848273",
   "metadata": {},
   "outputs": [],
   "source": [
    "# Question words feature\n",
    "\n",
    "# Define the question words\n",
    "question_words = ['who', 'where', 'when', 'why', 'what', 'how', 'which']\n",
    "\n",
    "# Function to one-hot encode the presence of question words as 0/1\n",
    "def one_hot_question_features(df, column_name):\n",
    "    for word in question_words:\n",
    "        pattern = rf'\\b{re.escape(word)}\\b'\n",
    "        df[f'{column_name}_contains_{word}'] = (\n",
    "            df[column_name].str.contains(pattern, case=False, na=False).astype(int)\n",
    "        )\n",
    "    return df\n",
    "\n",
    "# Apply the function to the prompt column\n",
    "filtered_df = one_hot_question_features(filtered_df, 'prompt')\n",
    "\n",
    "# Display the updated DataFrame with new features\n",
    "filtered_df.head()\n"
   ]
  },
  {
   "cell_type": "code",
   "execution_count": null,
   "id": "9ed92c65",
   "metadata": {},
   "outputs": [],
   "source": [
    "## Feature engineering: interaction terms\n",
    "\n",
    "# Will the combined length of both of the models' responses have an impact on hardness score?\n",
    "filtered_df.loc[:, 'length_interaction'] = (filtered_df['response_a_length'] * filtered_df['response_b_length'])\n",
    "\n",
    "# Interaction between response lengths and sentiment polarity\n",
    "# Thought process: a long positive response may be deemed a low hardness score and a long negative response may be deemed a high hardness score\n",
    "filtered_df['response_a_length_polarity'] = (filtered_df['response_a_length'] * filtered_df['model_a_response_polarity'])\n",
    "filtered_df['response_b_length_polarity'] = (filtered_df['response_b_length'] * filtered_df['model_b_response_polarity'])\n",
    "\n",
    "# Will this interaction between ELO ratings provide insight into whether difference in the skill level between models contributes to hardness scores?\n",
    "filtered_df['elo_modela_minus_modelb'] = filtered_df.apply(lambda row: elo_ratings[row['model_a']] - elo_ratings[row['model_b']], axis=1)"
   ]
  },
  {
   "cell_type": "code",
   "execution_count": null,
   "id": "ddb8f597",
   "metadata": {},
   "outputs": [],
   "source": [
    "def extract_textblob_features(df, text_column):\n",
    "    \"\"\" \n",
    "    To extract sentiment and linguistic features utilizing TextBlob\n",
    "\n",
    "    Parameters:\n",
    "        df: Input Dataframe\n",
    "        text_column: Name of column with text data\n",
    "\n",
    "    Returns:\n",
    "        df: Updated Dataframe with the extracted features as new columns\n",
    "    \"\"\"\n",
    "    # initialize lists to store the extracted features\n",
    "    polarity = [] # sentiment polarity scores\n",
    "    noun_count = [] # number of nouns \n",
    "    verb_count = [] # number of verbs\n",
    "\n",
    "    # loop through each row in column \n",
    "    for text in df[text_column]:\n",
    "        # Create a TextBlob object to analyze the text\n",
    "        blob = TextBlob(text)\n",
    "        polarity.append(blob.sentiment.polarity)\n",
    "        # count nouns\n",
    "        noun_count.append(len([word for word, pos in blob.tags if pos.startswith('NN')]))\n",
    "        # count verbs \n",
    "        verb_count.append(len([word for word, pos in blob.tags if pos.startswith('VB')]))\n",
    "\n",
    "    # Add extracted features to the DataFrame as new columns \n",
    "    df[f\"{text_column}_polarity\"] = polarity\n",
    "    df[f\"{text_column}_noun_count\"] = noun_count\n",
    "    df[f\"{text_column}_verb_count\"] = verb_count\n",
    "\n",
    "    return df\n",
    "\n",
    "# Apply to prompts and responses for models a and b\n",
    "filtered_df = extract_textblob_features(filtered_df, 'prompt')\n",
    "filtered_df = extract_textblob_features(filtered_df, 'model_a_response')\n",
    "filtered_df = extract_textblob_features(filtered_df, 'model_b_response')\n",
    "\n",
    "# Generate additional word counts\n",
    "filtered_df['prompt_word_count'] = filtered_df['prompt'].apply(lambda x: len(TextBlob(x).words))\n",
    "filtered_df['model_a_word_count'] = filtered_df['model_a_response'].apply(lambda x: len(TextBlob(x).words))\n",
    "filtered_df['model_b_word_count'] = filtered_df['model_b_response'].apply(lambda x: len(TextBlob(x).words))\n"
   ]
  },
  {
   "cell_type": "markdown",
   "id": "6f20ec02",
   "metadata": {},
   "source": [
    "### Set Features"
   ]
  },
  {
   "cell_type": "code",
   "execution_count": null,
   "id": "58de5ea6",
   "metadata": {},
   "outputs": [],
   "source": [
    "# The selected features\n",
    "selected_features = ['prompt_length',\n",
    "    'length_interaction', 'elo_modela_minus_modelb',\n",
    "    'prompt_noun_count', 'prompt_verb_count', \n",
    "    'response_a_length_polarity', 'response_b_length_polarity',\n",
    "    'model_a_response_noun_count', 'model_a_response_verb_count',\n",
    "    'model_b_response_noun_count', 'model_b_response_verb_count', 'topic_math', 'topic_creative']"
   ]
  },
  {
   "cell_type": "markdown",
   "id": "375c0946",
   "metadata": {},
   "source": [
    "### Model"
   ]
  },
  {
   "cell_type": "code",
   "execution_count": null,
   "id": "812d01b4",
   "metadata": {},
   "outputs": [],
   "source": [
    "# Ensure no NaN values in the target variable\n",
    "y = filtered_df['hardness_score']\n",
    "if y.isnull().sum() > 0 or np.isinf(y).sum() > 0:\n",
    "    print(f\"NaN values in 'hardness_score': {y.isnull().sum()}\")\n",
    "    y = y.dropna()\n",
    "\n",
    "# Filter X to include only the selected features\n",
    "X = filtered_df[selected_features]\n",
    "\n",
    "# Remove rows from X where y has been dropped\n",
    "X = X.loc[y.index]\n",
    "\n",
    "# Ensure no NaN or inf values in X\n",
    "X = X.dropna()\n",
    "X = X[~np.isinf(X).any(axis=1)]\n",
    "\n",
    "# Realign indices for X and y\n",
    "X, y = X.align(y, axis=0)\n",
    "\n",
    "# Train-test split\n",
    "X_train, X_test, y_train, y_test = train_test_split(X, y, test_size=0.2, random_state=42)\n",
    "\n",
    "print(\"Shape of X_train:\", X_train.shape)\n",
    "print(\"Shape of y_train:\", y_train.shape)\n",
    "\n",
    "# Check for non-finite values in the target\n",
    "print(\"Number of NaN values in y_train:\", y_train.isna().sum())\n",
    "print(\"Number of NaN values in y_test:\", y_test.isna().sum())\n",
    "\n",
    "print(\"Number of inf values in y_train:\", np.isinf(y_train).sum())\n",
    "print(\"Number of inf values in y_test:\", np.isinf(y_test).sum())\n",
    "\n",
    "# Scaler\n",
    "scaler = MinMaxScaler()\n",
    "X_train_scaled = scaler.fit_transform(X_train)\n",
    "X_test_scaled = scaler.transform(X_test)\n",
    "\n",
    "# Convert target to integers\n",
    "y_train = y_train.round().astype(int)\n",
    "y_test = y_test.round().astype(int)\n",
    "\n",
    "# Add a constant term for the intercept\n",
    "X_train_ols = sm.add_constant(X_train)\n",
    "X_test_ols = sm.add_constant(X_test)\n",
    "\n",
    "# Fit OLS model\n",
    "ols_model = sm.OLS(y_train, X_train_ols).fit()\n",
    "\n",
    "# Summary of the model\n",
    "print(ols_model.summary())\n",
    "\n",
    "# Make predictions\n",
    "y_pred_ols = ols_model.predict(X_test_ols)\n",
    "y_pred_ols_rounded = np.clip(np.round(y_pred_ols), 1, 10)  # Ensures predictions are between 1 and 10\n",
    "\n",
    "# Evaluate the model\n",
    "mse_ols = mean_squared_error(y_test, y_pred_ols_rounded)\n",
    "print(f\"\\nOLS Model MSE: {mse_ols:.2f}\")"
   ]
  },
  {
   "cell_type": "markdown",
   "id": "bcd39c1f",
   "metadata": {},
   "source": [
    "### To separate into MSE for training and validation- as suggested from milestone 5"
   ]
  },
  {
   "cell_type": "code",
   "execution_count": null,
   "id": "648ef1d5",
   "metadata": {},
   "outputs": [],
   "source": [
    "# Prepare the data\n",
    "X = filtered_df[selected_features]\n",
    "y = filtered_df['hardness_score']\n",
    "\n",
    "# Drop rows with NaN in either X or y\n",
    "data = pd.concat([X, y], axis=1).dropna()\n",
    "X = data[selected_features]\n",
    "y = data['hardness_score']\n",
    "\n",
    "# Add a constant for OLS\n",
    "X = sm.add_constant(X)\n",
    "\n",
    "# Initialize K-Fold Cross-Validation\n",
    "kf = KFold(n_splits=5, shuffle=True, random_state=42)\n",
    "\n",
    "# Initialize lists to store metrics\n",
    "training_mse = []\n",
    "validation_mse = []\n",
    "\n",
    "for fold, (train_idx, test_idx) in enumerate(kf.split(X), 1):\n",
    "    print(f\"Processing Fold {fold}...\")\n",
    "    \n",
    "    # Split the data into training and testing sets\n",
    "    X_train, X_test = X.iloc[train_idx], X.iloc[test_idx]\n",
    "    y_train, y_test = y.iloc[train_idx], y.iloc[test_idx]\n",
    "    \n",
    "    # Fit the OLS model\n",
    "    ols_model = sm.OLS(y_train, X_train).fit()\n",
    "    \n",
    "    # Predictions for training and testing sets\n",
    "    y_train_pred = ols_model.predict(X_train)\n",
    "    y_test_pred = ols_model.predict(X_test)\n",
    "    \n",
    "    # Calculate MSE for training and testing sets\n",
    "    training_mse.append(mean_squared_error(y_train, y_train_pred))\n",
    "    validation_mse.append(mean_squared_error(y_test, y_test_pred))\n",
    "\n",
    "# Calculate average MSE across folds\n",
    "avg_training_mse = np.mean(training_mse)\n",
    "avg_validation_mse = np.mean(validation_mse)\n",
    "\n",
    "# Print results\n",
    "print(\"\\nOLS Model MSE:\")\n",
    "print(f\"Average Training MSE: {avg_training_mse:.2f}\")\n",
    "print(f\"Average Validation MSE: {avg_validation_mse:.2f}\")"
   ]
  },
  {
   "cell_type": "markdown",
   "id": "5fb1874b",
   "metadata": {},
   "source": [
    "### Visualizations"
   ]
  },
  {
   "cell_type": "code",
   "execution_count": null,
   "id": "9e63b0dd",
   "metadata": {},
   "outputs": [],
   "source": [
    "# Correlation Heatmap\n",
    "def plot_correlation_heatmap(data, target_column):\n",
    "    \"\"\" \n",
    "    Displays a heatmap of feature correlations\n",
    "    \"\"\"\n",
    "    corr = data.corr()\n",
    "    plt.figure(figsize=(12, 8))\n",
    "    sns.heatmap(corr, annot=True, cmap=\"coolwarm\", fmt=\".2f\")\n",
    "    plt.title(\"Correlation Heatmap\")\n",
    "    plt.show()\n",
    "    \n",
    "    # Correlation with target variable\n",
    "    plt.figure(figsize=(6, 4))\n",
    "    target_corr = corr[target_column].sort_values(ascending=False)\n",
    "    sns.barplot(x=target_corr, y=target_corr.index)\n",
    "    plt.title(f\"Correlation with {target_column}\")\n",
    "    plt.show()\n",
    "\n",
    "# Correlation heatmap\n",
    "plot_correlation_heatmap(filtered_df[selected_features + ['hardness_score']], 'hardness_score')\n"
   ]
  },
  {
   "cell_type": "code",
   "execution_count": null,
   "id": "dfbd1a51",
   "metadata": {},
   "outputs": [],
   "source": [
    "# Residual Analysis Boxplot\n",
    "sns.boxplot(x=pd.cut(y_test, bins=[0, 3, 6, 9], labels=[\"Low\", \"Mid\", \"High\"]), y=y_test - y_test_pred)\n",
    "plt.axhline(0, color='red', linestyle='--')\n",
    "plt.title(\"Residual Analysis\")"
   ]
  },
  {
   "cell_type": "code",
   "execution_count": null,
   "id": "7a70450b",
   "metadata": {},
   "outputs": [],
   "source": [
    "def plot_hardness_score_distributions_ols(true_values, predicted_values):\n",
    "    \"\"\"\n",
    "    Compares the distributions of true and predicted hardness scores for the OLS model.\n",
    "\n",
    "    Parameters:\n",
    "        true_values: Array or list of true hardness scores.\n",
    "        predicted_values: Array or list of predicted hardness scores from the OLS model.\n",
    "    \"\"\"\n",
    "    plt.figure(figsize=(10, 6))\n",
    "    sns.histplot(true_values, kde=True, bins=30, color='blue', label='True', alpha=0.5)\n",
    "    sns.histplot(predicted_values, kde=True, bins=30, color='green', label='Predicted', alpha=0.5)\n",
    "    plt.title('Distribution of True vs Predicted Hardness Scores (OLS)')\n",
    "    plt.xlabel('Hardness Scores')\n",
    "    plt.ylabel('Frequency')\n",
    "    plt.legend()\n",
    "    plt.show()\n",
    "\n",
    "# Ensure you have the OLS predictions:\n",
    "y_pred_ols = ols_model.predict(X_test)\n",
    "y_true_ols = y_test\n",
    "\n",
    "# Calling the function with true and predicted values\n",
    "plot_hardness_score_distributions_ols(y_true_ols, y_pred_ols)\n"
   ]
  }
 ],
 "metadata": {
  "kernelspec": {
   "display_name": "msse-python",
   "language": "python",
   "name": "python3"
  },
  "language_info": {
   "codemirror_mode": {
    "name": "ipython",
    "version": 3
   },
   "file_extension": ".py",
   "mimetype": "text/x-python",
   "name": "python",
   "nbconvert_exporter": "python",
   "pygments_lexer": "ipython3",
   "version": "3.11.8"
  }
 },
 "nbformat": 4,
 "nbformat_minor": 5
}
