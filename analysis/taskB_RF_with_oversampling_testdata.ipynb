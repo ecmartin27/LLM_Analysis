{
 "cells": [
  {
   "cell_type": "markdown",
   "id": "71c08499",
   "metadata": {},
   "source": [
    "# Task B- Random Forests with Oversampling and the Test Set"
   ]
  },
  {
   "cell_type": "markdown",
   "id": "8213f304-3b03-44a0-a556-517bae8e39a8",
   "metadata": {},
   "source": [
    " ## Loading the Datasets"
   ]
  },
  {
   "cell_type": "code",
   "execution_count": null,
   "id": "eaa853ed",
   "metadata": {},
   "outputs": [],
   "source": [
    "import numpy as np\n",
    "import pandas as pd\n",
    "from sklearn.ensemble import RandomForestRegressor\n",
    "from sklearn.model_selection import KFold\n",
    "from sklearn.utils import resample\n",
    "import matplotlib.pyplot as plt\n",
    "import seaborn as sns\n",
    "from sklearn.model_selection import GridSearchCV\n",
    "from sklearn.ensemble import RandomForestRegressor\n",
    "import pandas as pd\n"
   ]
  },
  {
   "cell_type": "code",
   "execution_count": null,
   "id": "fb481e9b-ebe3-4e8d-84bb-072434d68129",
   "metadata": {},
   "outputs": [],
   "source": [
    "sns.set_theme(style=\"whitegrid\")\n",
    "\n",
    "# Main Dataset\n",
    "\n",
    "# Conversation Data -- we will use this data in the \"Conversation Data\" section\n",
    "\n",
    "df = pd.read_json(\n",
    "    \"data/chatbot-arena-conversations.jsonl.gz\",\n",
    "    compression=\"gzip\",\n",
    "    lines=True)\n",
    "df.head(5)"
   ]
  },
  {
   "cell_type": "code",
   "execution_count": null,
   "id": "09ce013d-8710-46a3-aff2-5fe0c330a0d1",
   "metadata": {},
   "outputs": [],
   "source": [
    "# Auxiliary Datasets\n",
    "\n",
    "# Embedding Data -- we will use this data in the \"Embedding Data\" section\n",
    "prompt_embeddings = np.load(\n",
    "    \"data/chatbot-arena-prompts-embeddings.npy\"\n",
    ")\n",
    "\n",
    "response_a_embeddings = np.load(\n",
    "    \"data/chatbot-arena-model_a_response-embeddings.npy\"\n",
    ")\n",
    "\n",
    "response_b_embeddings = np.load(\n",
    "    \"data/chatbot-arena-model_b_response-embeddings.npy\"\n",
    ")\n",
    "\n",
    "# Topic Modeling and Hardness Score Data -- we will use this data in the \"Topic Modeling and Hardness Score Data\" section\n",
    "topic_and_hardness = pd.read_json(\n",
    "    \"data/chatbot-arena-gpt3-scores.jsonl.gz\",\n",
    "    lines=True,\n",
    "    compression=\"gzip\"\n",
    ")"
   ]
  },
  {
   "cell_type": "code",
   "execution_count": null,
   "id": "134b6023",
   "metadata": {},
   "outputs": [],
   "source": [
    "test_df = pd.read_json(\n",
    "    \"data/arena-test-set-prompt-and-responses.jsonl.gz\",\n",
    "    compression=\"gzip\",\n",
    "    lines=True)\n",
    "test_df.head(5)"
   ]
  },
  {
   "cell_type": "code",
   "execution_count": null,
   "id": "0d195e0d",
   "metadata": {},
   "outputs": [],
   "source": [
    "#testing data frames \n",
    "\n",
    "test_topic_and_hardness = pd.read_json(\n",
    "    \"data/arena-test-set-topic-modeling.jsonl.gz\",\n",
    "    lines=True,\n",
    "    compression=\"gzip\"\n",
    ")\n",
    "\n",
    "test_prompts = np.load(\n",
    "    \"data/arena-test-set-prompts-embeddings.npy\"\n",
    ")\n",
    "\n",
    "test_response_a_embeddings = np.load(\n",
    "    \"data/arena-test-set-model_a_response-embeddings.npy\"\n",
    ")\n",
    "\n",
    "test_response_b_embeddings = np.load(\n",
    "    \"data/arena-test-set-model_b_response-embeddings.npy\"\n",
    ")"
   ]
  },
  {
   "cell_type": "code",
   "execution_count": null,
   "id": "35373960",
   "metadata": {},
   "outputs": [],
   "source": [
    "# Extracting the prompt\n",
    "df[\"prompt\"] = df[\"conversation_a\"].str[0].str[\"content\"]\n",
    "df[\"prompt\"].head(1)\n",
    "df[\"prompt\"].value_counts()"
   ]
  },
  {
   "cell_type": "code",
   "execution_count": null,
   "id": "ebed716c",
   "metadata": {},
   "outputs": [],
   "source": [
    "# Extracting the prompt\n",
    "test_df.columns"
   ]
  },
  {
   "cell_type": "code",
   "execution_count": null,
   "id": "b71e0ec8",
   "metadata": {},
   "outputs": [],
   "source": [
    "#add columns to separate responses from the conversation (we already did this for the prompt)\n",
    "df[\"model_a_response\"] = df[\"conversation_a\"].str[1].str[\"content\"]\n",
    "df[\"model_b_response\"] = df[\"conversation_b\"].str[1].str[\"content\"]\n",
    "df[\"model_a_response\"][2]"
   ]
  },
  {
   "cell_type": "code",
   "execution_count": null,
   "id": "166ddc7e",
   "metadata": {},
   "outputs": [],
   "source": [
    "test_df.head()"
   ]
  },
  {
   "cell_type": "code",
   "execution_count": null,
   "id": "69127afd",
   "metadata": {},
   "outputs": [],
   "source": [
    "#create columns for prompt and response lengths\n",
    "df[\"prompt_length\"] = df[\"prompt\"].str.len()\n",
    "df[\"prompt_length\"].describe() #use this if you want to know statistics about prompt and response lengths\n",
    "\n",
    "df[\"response_a_length\"] = df[\"model_a_response\"].str.len()\n",
    "\n",
    "\n",
    "df[\"response_b_length\"] = df[\"model_b_response\"].str.len()\n"
   ]
  },
  {
   "cell_type": "code",
   "execution_count": null,
   "id": "77015c76",
   "metadata": {},
   "outputs": [],
   "source": [
    "test_df[\"prompt_length\"] = test_df[\"prompt\"].str.len()\n",
    "test_df[\"prompt_length\"].describe()\n",
    "\n",
    "test_df[\"response_a_length\"] = test_df[\"model_a_response\"].str.len()\n",
    "\n",
    "\n",
    "test_df[\"response_b_length\"] = test_df[\"model_b_response\"].str.len()"
   ]
  },
  {
   "cell_type": "code",
   "execution_count": null,
   "id": "bfbe828f",
   "metadata": {},
   "outputs": [],
   "source": [
    "test_df.columns"
   ]
  },
  {
   "cell_type": "markdown",
   "id": "2a93ab0e",
   "metadata": {},
   "source": [
    "### Engineering feature of dot product similarity between embeddings"
   ]
  },
  {
   "cell_type": "code",
   "execution_count": null,
   "id": "dec64caa",
   "metadata": {},
   "outputs": [],
   "source": [
    "assert len(prompt_embeddings) == len(df), \"Mismatch between prompt embeddings and DataFrame rows.\"\n",
    "assert len(response_a_embeddings) == len(df), \"Mismatch between response_a embeddings and DataFrame rows.\"\n",
    "assert len(response_b_embeddings) == len(df), \"Mismatch between response_b embeddings and DataFrame rows.\"\n",
    "\n",
    "# Compute dot products and add them as new columns to the original DataFrame\n",
    "df['similarity_prompt_response_a'] = [\n",
    "    np.dot(prompt, response_a)\n",
    "    for prompt, response_a in zip(prompt_embeddings, response_a_embeddings)\n",
    "]\n",
    "\n",
    "df['similarity_prompt_response_b'] = [\n",
    "    np.dot(prompt, response_b)\n",
    "    for prompt, response_b in zip(prompt_embeddings, response_b_embeddings)\n",
    "]\n"
   ]
  },
  {
   "cell_type": "code",
   "execution_count": null,
   "id": "7ad42808",
   "metadata": {},
   "outputs": [],
   "source": [
    "print(topic_and_hardness[['score_value_1', 'score_value_2', 'score_value_3']].dtypes)\n",
    "print(topic_and_hardness[['score_value_1', 'score_value_2', 'score_value_3']].head())\n"
   ]
  },
  {
   "cell_type": "code",
   "execution_count": null,
   "id": "a91b1129",
   "metadata": {},
   "outputs": [],
   "source": [
    "# Inspect the first few rows of the problematic columns\n",
    "print(topic_and_hardness[['score_value_1', 'score_value_2', 'score_value_3']].head())\n",
    "print(topic_and_hardness[['score_value_1', 'score_value_2', 'score_value_3']].info())\n"
   ]
  },
  {
   "cell_type": "code",
   "execution_count": null,
   "id": "bef7c682",
   "metadata": {},
   "outputs": [],
   "source": [
    "#this will merge the mean value of the hardness scores and the topic_modeling 3 with the main data set\n",
    "topic_and_hardness['hardness_score'] = topic_and_hardness[['score_value_1', 'score_value_2', 'score_value_3']].mean(axis=1)\n",
    "merged_df = df.merge(topic_and_hardness[['question_id', 'hardness_score', 'topic_modeling_3']], on='question_id', how='left')"
   ]
  },
  {
   "cell_type": "code",
   "execution_count": null,
   "id": "8bccf86a",
   "metadata": {},
   "outputs": [],
   "source": [
    "test_merged_df = test_df.merge(topic_and_hardness[['question_id', 'topic_modeling_2']], on='question_id', how='left')"
   ]
  },
  {
   "cell_type": "code",
   "execution_count": null,
   "id": "2633842d",
   "metadata": {},
   "outputs": [],
   "source": [
    "test_merged_df = test_merged_df.fillna(0)"
   ]
  },
  {
   "cell_type": "markdown",
   "id": "4379b233",
   "metadata": {},
   "source": []
  },
  {
   "cell_type": "code",
   "execution_count": null,
   "id": "9ba997bc",
   "metadata": {},
   "outputs": [],
   "source": [
    "# To Do: fetch code where we identified these question IDs @caroline\n",
    "# This will remove question ids that produced null values for topic_and_hardness\n",
    "filtered_df = merged_df[\n",
    "    ~merged_df['question_id'].isin([\n",
    "        'e6d45ead33114cca8ee3cfa028517eff',\n",
    "        'addaa796ee094f029f8014ea1468df8a',\n",
    "        'd37eb99864fa41ecab49026abdddb53e',\n",
    "        '6da02001e74041d0947982fb4d05db9e',\n",
    "        'd93e36df73e84aa2ade15d4a038c098f',\n",
    "        '50b63f92bc5948218e1555d1eae17797',\n",
    "        '8277b16d9a0845d694a33c04f446926c',\n",
    "        'd56d698d4c1c495682a366f2a78fcb77',\n",
    "        '86c7abedb5f84b7ea752cc98d324d387',\n",
    "        '974569d7b9c74ca591f1922bf3722266',\n",
    "        'ba3cfbae941946c6a41ea725b46f3aa7',\n",
    "        '283be8724d674cb6a74da59d0c12ea16',\n",
    "        'fbd400babd914eb1ad6202b4400d6beb',\n",
    "        '087b90bf76ed4c409b7c7bd5d6b0d6c5',\n",
    "        'f9ad250d0194489b8b9f12d31386aab1',\n",
    "        '7e371a23981847c7b19bc61195f11eda',\n",
    "        'f55b273603754c0d92f5139351ca0d02',\n",
    "        '255e1466eaf14cc2ba93040776c0c440',\n",
    "        '6979b646271e46f4a329a5e6acaeed38',\n",
    "        'ed7fa335d5524295b1dd79452778d26c',\n",
    "        'f794c699e4964b11a1373976be5b0944',\n",
    "        'c92bcab701cc46649368fc121b84ccc1',\n",
    "        'a632607132cf4908883fd262102714c9',\n",
    "        'a0857d64b4954ea6bd75c2406c3dd32c',\n",
    "        'e4a1fc8a9462475d95022914cb9f5b03',\n",
    "        'c7aa752f61dc46d093dc86713686f6f3'\n",
    "    ])\n",
    "]\n"
   ]
  },
  {
   "cell_type": "markdown",
   "id": "4341f192",
   "metadata": {},
   "source": [
    "#### Calculating the ELO ratings per model:"
   ]
  },
  {
   "cell_type": "code",
   "execution_count": null,
   "id": "855afa12",
   "metadata": {},
   "outputs": [],
   "source": [
    "# Initialize ratings dictionary with a default rating (e.g., 1000 for each model)\n",
    "elo_ratings = {model: 1000 for model in pd.concat([filtered_df[\"model_a\"], filtered_df[\"model_b\"]]).unique()}\n",
    "\n",
    "def update_elo(winner, loser, k=32):\n",
    "    \"\"\"Adjust the ELO rating based on the winner and loser models.\"\"\"\n",
    "    winner_rating = elo_ratings[winner]\n",
    "    loser_rating = elo_ratings[loser]\n",
    "\n",
    "    # expected scores\n",
    "    expected_winner = 1 / (1 + 10 ** ((loser_rating - winner_rating) / 400))\n",
    "    expected_loser = 1 - expected_winner\n",
    "\n",
    "    # update ratings\n",
    "    elo_ratings[winner] += k * (1 - expected_winner)\n",
    "    elo_ratings[loser] += k * (0 - expected_loser)\n",
    "\n",
    "# Loop over each row to adjust ELO ratings\n",
    "for i, row in filtered_df.iterrows():\n",
    "    if row[\"winner\"] == \"model_a\":\n",
    "        update_elo(row[\"model_a\"], row[\"model_b\"])\n",
    "    elif row[\"winner\"] == \"model_b\":\n",
    "        update_elo(row[\"model_b\"], row[\"model_a\"])\n",
    "\n",
    "# convert ELO ratings to a sorted DataFrame\n",
    "elo_df = pd.DataFrame(list(elo_ratings.items()), columns=[\"model\", \"ELO_rating\"]).sort_values(by=\"ELO_rating\", ascending=False)\n",
    "print(\"ELO ratings per model:\")\n",
    "print(elo_df)\n",
    "\n",
    "\n"
   ]
  },
  {
   "cell_type": "markdown",
   "id": "c24b9ef2",
   "metadata": {},
   "source": [
    "### Create column where the ELO ratings are compared, model a minus model b, to give a measure of which model is stronger so that we can include the prompt features as well in our tasks"
   ]
  },
  {
   "cell_type": "markdown",
   "id": "b7953143",
   "metadata": {},
   "source": [
    "## Topics feature"
   ]
  },
  {
   "cell_type": "code",
   "execution_count": null,
   "id": "5c04175d",
   "metadata": {},
   "outputs": [],
   "source": [
    "# Define regex patterns and their corresponding feature names\n",
    "core_topics = {\n",
    "    r'math': 'topic_math',\n",
    "    r'fact\\w*': 'topic_fact',\n",
    "    r'creativ\\w*': 'topic_creative',\n",
    "    r'problem[ -]?solving': 'topic_problem_solving'\n",
    "}\n",
    "\n",
    "# Apply one-hot encoding for the defined core topics\n",
    "for pattern, feature_name in core_topics.items():\n",
    "    filtered_df[feature_name] = filtered_df['topic_modeling_3'].str.contains(pattern, case=False, na=False, regex=True).astype(int)"
   ]
  },
  {
   "cell_type": "code",
   "execution_count": null,
   "id": "75e27d7f",
   "metadata": {},
   "outputs": [],
   "source": [
    "# Define regex patterns and their corresponding feature names\n",
    "core_topics = {\n",
    "    r'math': 'topic_math',\n",
    "    r'creativ\\w*': 'topic_creative',\n",
    "}\n",
    "\n",
    "# Apply one-hot encoding for the defined core topics\n",
    "for pattern, feature_name in core_topics.items():\n",
    "    test_merged_df[feature_name] = test_merged_df['topic_modeling_2'].str.contains(pattern, case=False, na=False, regex=True).astype(int)"
   ]
  },
  {
   "cell_type": "code",
   "execution_count": null,
   "id": "8dc47a55",
   "metadata": {},
   "outputs": [],
   "source": [
    "test_merged_df.head()"
   ]
  },
  {
   "cell_type": "markdown",
   "id": "4a953b99",
   "metadata": {},
   "source": [
    "## Auxiliary verbs feature"
   ]
  },
  {
   "cell_type": "code",
   "execution_count": null,
   "id": "3c138306",
   "metadata": {},
   "outputs": [],
   "source": [
    "import re\n",
    "\n",
    "# Define the modal verbs\n",
    "modal_verbs = ['can', 'could', 'may', 'might', 'shall', 'should', 'will', 'would', 'must', 'have to']\n",
    "\n",
    "# Create a regex pattern (case-insensitive)\n",
    "modal_regex = '|'.join([re.escape(verb) for verb in modal_verbs])\n",
    "\n",
    "# Function to one-hot encode the presence of modal verbs\n",
    "def one_hot_modal_features(df, column_name, modal_regex):\n",
    "    for verb in modal_verbs:\n",
    "        pattern = rf'\\b{re.escape(verb)}\\b'\n",
    "        df[f'{column_name}_contains_{verb.replace(\" \", \"_\")}'] = df[column_name].str.contains(pattern, case=False, na=False).astype(int)\n",
    "    return df\n",
    "\n",
    "# Apply the function to both model_a_response and model_b_response\n",
    "filtered_df = one_hot_modal_features(filtered_df, 'model_a_response', modal_regex)\n",
    "filtered_df = one_hot_modal_features(filtered_df, 'model_b_response', modal_regex)\n"
   ]
  },
  {
   "cell_type": "markdown",
   "id": "f2b8bab3",
   "metadata": {},
   "source": [
    "### TextBlob"
   ]
  },
  {
   "cell_type": "code",
   "execution_count": null,
   "id": "db7d1a36",
   "metadata": {},
   "outputs": [],
   "source": [
    "#Imports\n",
    "from textblob import TextBlob\n",
    "import matplotlib.pyplot as plt\n",
    "from sklearn.metrics import (mean_squared_error, mean_absolute_error, explained_variance_score, r2_score)\n"
   ]
  },
  {
   "cell_type": "code",
   "execution_count": null,
   "id": "a2468917",
   "metadata": {},
   "outputs": [],
   "source": [
    "def extract_textblob_features(df, text_column):\n",
    "    \"\"\" \n",
    "    To extract sentiment and linguistic features utilizing TextBlob\n",
    "\n",
    "    Parameters:\n",
    "        df: Input Dataframe\n",
    "        text_column: Name of column with text data\n",
    "\n",
    "    Returns:\n",
    "        df: Updated Dataframe with the extracted features as new columns\n",
    "    \"\"\"\n",
    "    # initialize lists to store the extracted features\n",
    "    polarity = [] # sentiment polarity scores\n",
    "    noun_count = [] # number of nouns \n",
    "    verb_count = [] # number of verbs\n",
    "\n",
    "    # loop through each row in column \n",
    "    for text in df[text_column]:\n",
    "        # Create a TextBlob object to analyze the text\n",
    "        blob = TextBlob(text)\n",
    "        polarity.append(blob.sentiment.polarity)\n",
    "        # count nouns\n",
    "        noun_count.append(len([word for word, pos in blob.tags if pos.startswith('NN')]))\n",
    "        # count verbs \n",
    "        verb_count.append(len([word for word, pos in blob.tags if pos.startswith('VB')]))\n",
    "\n",
    "    # Add extracted features to the DataFrame as new columns \n",
    "    df[f\"{text_column}_polarity\"] = polarity\n",
    "    df[f\"{text_column}_noun_count\"] = noun_count\n",
    "    df[f\"{text_column}_verb_count\"] = verb_count\n",
    "\n",
    "    return df\n",
    "\n",
    "# Use textblob featuures on prompts and responses\n",
    "filtered_df = extract_textblob_features(filtered_df, 'prompt')\n",
    "filtered_df = extract_textblob_features(filtered_df, 'model_a_response')\n",
    "filtered_df = extract_textblob_features(filtered_df, 'model_b_response')\n",
    "test_merged_df = extract_textblob_features(test_merged_df, 'prompt')\n",
    "test_merged_df = extract_textblob_features(test_merged_df, 'model_a_response')\n",
    "test_merged_df = extract_textblob_features(test_merged_df, 'model_b_response')"
   ]
  },
  {
   "cell_type": "markdown",
   "id": "f527f971",
   "metadata": {},
   "source": [
    "### Feature Interactions"
   ]
  },
  {
   "cell_type": "code",
   "execution_count": null,
   "id": "9ed92c65",
   "metadata": {},
   "outputs": [],
   "source": [
    "## Feature engineering: interaction terms\n",
    "\n",
    "# Will the combined length of both of the models' responses have an impact on hardness score?\n",
    "filtered_df.loc[:, 'length_interaction'] = (filtered_df['response_a_length'] * filtered_df['response_b_length'])\n",
    "\n",
    "# Interaction between response lengths and sentiment polarity\n",
    "# Thought process: a long positive response may be deemed a low hardness score and a long negative response may be deemed a high hardness score\n",
    "filtered_df['response_a_length_polarity'] = (filtered_df['response_a_length'] * filtered_df['model_a_response_polarity'])\n",
    "filtered_df['response_b_length_polarity'] = (filtered_df['response_b_length'] * filtered_df['model_b_response_polarity'])\n",
    "\n",
    "# Will this interaction between ELO ratings provide insight into whether difference in the skill level between models contributes to hardness scores?\n",
    "filtered_df['elo_modela_minus_modelb'] = filtered_df.apply(lambda row: elo_ratings[row['model_a']] - elo_ratings[row['model_b']], axis=1)"
   ]
  },
  {
   "cell_type": "code",
   "execution_count": null,
   "id": "cfc1b300",
   "metadata": {},
   "outputs": [],
   "source": [
    "# testing\n",
    "# Will the combined length of both of the models' responses have an impact on hardness score?\n",
    "test_merged_df.loc[:, 'length_interaction'] = (test_merged_df['response_a_length'] * test_merged_df['response_b_length'])\n",
    "\n",
    "# Interaction between response lengths and sentiment polarity\n",
    "# Thought process: a long positive response may be deemed a low hardness score and a long negative response may be deemed a high hardness score\n",
    "test_merged_df['response_a_length_polarity'] = (test_merged_df['response_a_length'] * test_merged_df['model_a_response_polarity'])\n",
    "test_merged_df['response_b_length_polarity'] = (test_merged_df['response_b_length'] * test_merged_df['model_b_response_polarity'])\n",
    "\n",
    "# Will this interaction between ELO ratings provide insight into whether difference in the skill level between models contributes to hardness scores?\n",
    "test_merged_df['elo_modela_minus_modelb'] = test_merged_df.apply(lambda row: elo_ratings[row['model_a']] - elo_ratings[row['model_b']], axis=1)"
   ]
  },
  {
   "cell_type": "code",
   "execution_count": null,
   "id": "6ce18450",
   "metadata": {},
   "outputs": [],
   "source": [
    "# Analyzing the numeric columns from the data for correlation analysis for feature interaction analysis\n",
    "numeric_df = filtered_df.select_dtypes(include=[np.number])\n",
    "\n",
    "# correlation matrix for the numeric data\n",
    "corr_matrix = numeric_df.corr()\n",
    "sns.heatmap(corr_matrix, cmap='coolwarm')"
   ]
  },
  {
   "cell_type": "markdown",
   "id": "6d8efe5e",
   "metadata": {},
   "source": [
    "### Establishing the feature set"
   ]
  },
  {
   "cell_type": "code",
   "execution_count": null,
   "id": "a655b27a",
   "metadata": {},
   "outputs": [],
   "source": [
    "# The selected features for training the model\n",
    "selected_features = ['prompt_length',\n",
    "    'length_interaction', 'elo_modela_minus_modelb',\n",
    "    'prompt_noun_count', 'prompt_verb_count', \n",
    "    'response_a_length_polarity', 'response_b_length_polarity',\n",
    "    'model_a_response_noun_count', 'model_a_response_verb_count',\n",
    "    'model_b_response_noun_count', 'model_b_response_verb_count', 'topic_math', 'topic_creative']"
   ]
  },
  {
   "cell_type": "code",
   "execution_count": null,
   "id": "3b51c3c0",
   "metadata": {},
   "outputs": [],
   "source": [
    "# features for testing\n",
    "testing_features = test_merged_df[['prompt_length',\n",
    "    'length_interaction', 'elo_modela_minus_modelb',\n",
    "    'prompt_noun_count', 'prompt_verb_count', \n",
    "    'response_a_length_polarity', 'response_b_length_polarity',\n",
    "    'model_a_response_noun_count', 'model_a_response_verb_count',\n",
    "    'model_b_response_noun_count', 'model_b_response_verb_count', 'topic_math', 'topic_creative']]"
   ]
  },
  {
   "cell_type": "code",
   "execution_count": null,
   "id": "4800a947",
   "metadata": {},
   "outputs": [],
   "source": [
    "testing_features = testing_features.loc[:, ~testing_features.columns.duplicated()]"
   ]
  },
  {
   "cell_type": "code",
   "execution_count": null,
   "id": "4f15c816",
   "metadata": {},
   "outputs": [],
   "source": [
    "# ensure y is cleaned first\n",
    "y = filtered_df['hardness_score']\n",
    "y = y.dropna()  # drop NaN values\n",
    "\n",
    "# Ensure X aligns with cleaned y\n",
    "X = filtered_df[selected_features].loc[y.index]\n",
    "\n",
    "# drop missing or infinite values in X\n",
    "X = X.dropna()\n",
    "\n",
    "# aligns X and y indices after filtering\n",
    "X, y = X.align(y, axis=0)\n"
   ]
  },
  {
   "cell_type": "code",
   "execution_count": null,
   "id": "3c8dad4b",
   "metadata": {},
   "outputs": [],
   "source": [
    "print(X.shape)\n",
    "print(testing_features.shape)"
   ]
  },
  {
   "cell_type": "code",
   "execution_count": null,
   "id": "6bb4d571",
   "metadata": {},
   "outputs": [],
   "source": [
    "# iterate over each column in the feature set to visualize its the relationship with hardness score\n",
    "for column in X.columns:\n",
    "    plt.scatter(X[column], y)\n",
    "    plt.title(f\"{column} vs Hardness Score\")\n",
    "    plt.xlabel(column)\n",
    "    plt.ylabel(\"Hardness Score\")\n",
    "    plt.show()\n"
   ]
  },
  {
   "cell_type": "markdown",
   "id": "f76862de",
   "metadata": {},
   "source": [
    "### Functions for model performance"
   ]
  },
  {
   "cell_type": "code",
   "execution_count": null,
   "id": "39c840ee",
   "metadata": {},
   "outputs": [],
   "source": [
    "# Function for oversampling low-range data\n",
    "def oversample_low_range(X, y, low_threshold=3):\n",
    "    \"\"\"\n",
    "    Oversample the low-range target values to address class imbalance\n",
    "    \n",
    "    Parameters:\n",
    "        X: Features (DataFrame)\n",
    "        y: Target variable (Series)\n",
    "        low_threshold: Threshold to define the low range\n",
    "    \n",
    "    Returns:\n",
    "        X_combined: Oversampled features\n",
    "        y_combined: Oversampled target variable\n",
    "    \"\"\"\n",
    "    # alignment\n",
    "    X, y = X.align(y, axis=0)\n",
    "\n",
    "    # identify low range\n",
    "    low_range = y <= low_threshold\n",
    "    X_low, y_low = X[low_range], y[low_range]\n",
    "\n",
    "    # If no low-range samples exist, return original data\n",
    "    if X_low.empty or y_low.empty:\n",
    "        print(\"Warning: No low-range data available for oversampling.\")\n",
    "        return X, y\n",
    "\n",
    "    # Oversample low-range data\n",
    "    X_oversampled, y_oversampled = resample(\n",
    "        X_low, y_low,\n",
    "        replace=True,  # Oversampling with replacement\n",
    "        n_samples=X.shape[0] // 3,  # Target size of oversampling\n",
    "        random_state=42\n",
    "    )\n",
    "\n",
    "    # Combine oversampled data with the original dataset\n",
    "    X_combined = pd.concat([X, X_oversampled])\n",
    "    y_combined = pd.concat([y, y_oversampled])\n",
    "\n",
    "    return X_combined, y_combined"
   ]
  },
  {
   "cell_type": "code",
   "execution_count": null,
   "id": "c763cf53",
   "metadata": {},
   "outputs": [],
   "source": [
    "def calculate_performance_metrics(y_true, y_pred, y_train=None, y_train_pred=None, y_val=None, y_val_pred=None):\n",
    "    \"\"\"\n",
    "    Calculates various performance metrics for training, testing, and validation sets.\n",
    "    \n",
    "    Parameters:\n",
    "        y_true: True values for the test set\n",
    "        y_pred: Predicted values for the test set\n",
    "        y_train: True values for the training set\n",
    "        y_train_pred: Predicted values for the training set\n",
    "        y_val: True values for the validation set\n",
    "        y_val_pred: Predicted values for the validation set\n",
    "    \n",
    "    Returns:\n",
    "        metrics: Dictionary containing performance metrics\n",
    "    \"\"\"\n",
    "    metrics = {\n",
    "        \"Test RMSE\": np.sqrt(mean_squared_error(y_true, y_pred)),\n",
    "        \"Test MSE\": mean_squared_error(y_true, y_pred),\n",
    "        \"Test MAE\": mean_absolute_error(y_true, y_pred),\n",
    "        \"Test R² Score\": r2_score(y_true, y_pred),\n",
    "        \"Test Explained Variance\": explained_variance_score(y_true, y_pred),\n",
    "        \"Test Residual Std Dev\": np.std(y_true - y_pred),\n",
    "    }\n",
    "    \n",
    "    if y_train is not None and y_train_pred is not None:\n",
    "        metrics.update({\n",
    "            \"Train RMSE\": np.sqrt(mean_squared_error(y_train, y_train_pred)),\n",
    "            \"Train MSE\": mean_squared_error(y_train, y_train_pred),\n",
    "            \"Train MAE\": mean_absolute_error(y_train, y_train_pred),\n",
    "            \"Train R² Score\": r2_score(y_train, y_train_pred),\n",
    "            \"Train Explained Variance\": explained_variance_score(y_train, y_train_pred),\n",
    "        })\n",
    "    \n",
    "    if y_val is not None and y_val_pred is not None:\n",
    "        metrics.update({\n",
    "            \"Validation RMSE\": np.sqrt(mean_squared_error(y_val, y_val_pred)),\n",
    "            \"Validation MSE\": mean_squared_error(y_val, y_val_pred),\n",
    "            \"Validation MAE\": mean_absolute_error(y_val, y_val_pred),\n",
    "            \"Validation R² Score\": r2_score(y_val, y_val_pred),\n",
    "            \"Validation Explained Variance\": explained_variance_score(y_val, y_val_pred),\n",
    "        })\n",
    "    \n",
    "    return metrics\n",
    "\n",
    "# Function to display performance metrics\n",
    "def display_performance_metrics(metrics):\n",
    "    \"\"\"\n",
    "    Display performance metrics in a readable format.\n",
    "    \n",
    "    Parameters:\n",
    "        metrics: Dictionary of performance metrics to display.\n",
    "    \"\"\"\n",
    "    print(\"\\nPerformance Metrics:\")\n",
    "    for metric_name, value in metrics.items():\n",
    "        print(f\"{metric_name}: {value:.2f}\")\n"
   ]
  },
  {
   "cell_type": "code",
   "execution_count": null,
   "id": "f5049c1e",
   "metadata": {},
   "outputs": [],
   "source": [
    " #function to calculate range-specific RMSE\n",
    "def calculate_range_rmse(y_true, y_pred, low_threshold=3, mid_threshold=6):\n",
    "    \"\"\" \n",
    "    Calculate RMSE range scores\n",
    "    \"\"\"\n",
    "    y_pred_rounded = np.round(y_pred)\n",
    "    rmse_low = np.sqrt(mean_squared_error(y_true[y_true <= low_threshold], y_pred_rounded[y_true <= low_threshold])) if (y_true <= low_threshold).sum() > 0 else np.nan\n",
    "    rmse_mid = np.sqrt(mean_squared_error(y_true[(y_true > low_threshold) & (y_true <= mid_threshold)], y_pred_rounded[(y_true > low_threshold) & (y_true <= mid_threshold)])) if ((y_true > low_threshold) & (y_true <= mid_threshold)).sum() > 0 else np.nan\n",
    "    rmse_high = np.sqrt(mean_squared_error(y_true[y_true > mid_threshold], y_pred_rounded[y_true > mid_threshold])) if (y_true > mid_threshold).sum() > 0 else np.nan\n",
    "    return rmse_low, rmse_mid, rmse_high\n",
    "\n",
    "# function to display range-specific RMSE\n",
    "def display_range_rmse(rmse_low, rmse_mid, rmse_high):\n",
    "    \"\"\" \n",
    "    Displays RMSE range scores\n",
    "    \"\"\"\n",
    "    print(\"\\nRange-Specific RMSE:\")\n",
    "    print(f\"Low Range (<=3): {rmse_low:.2f}\" if not np.isnan(rmse_low) else \"Low Range (<=3): N/A\")\n",
    "    print(f\"Mid Range (3-6): {rmse_mid:.2f}\" if not np.isnan(rmse_mid) else \"Mid Range (3-6): N/A\")\n",
    "    print(f\"High Range (>6): {rmse_high:.2f}\" if not np.isnan(rmse_high) else \"High Range (>6): N/A\")\n"
   ]
  },
  {
   "cell_type": "markdown",
   "id": "f0b2ca1e",
   "metadata": {},
   "source": [
    "### Model"
   ]
  },
  {
   "cell_type": "code",
   "execution_count": null,
   "id": "47ad9e4b",
   "metadata": {},
   "outputs": [],
   "source": [
    "# Drop rows with missing target values\n",
    "filtered_df = filtered_df.dropna(subset=['hardness_score'])\n",
    "\n",
    "# Extract features and target variable\n",
    "X = filtered_df[selected_features]\n",
    "y = filtered_df['hardness_score']\n",
    "\n",
    "# Oversample the low range 0-3\n",
    "X_oversampled, y_oversampled = oversample_low_range(X, y)\n",
    "\n",
    "# K-Fold Cross-Validation and Random Forest Regressor\n",
    "kf = KFold(n_splits=5, shuffle=True, random_state=42)\n",
    "rf_model = RandomForestRegressor(\n",
    "    n_estimators=200,\n",
    "    max_depth=20,\n",
    "    min_samples_split=2,\n",
    "    min_samples_leaf=1,\n",
    "    random_state=42\n",
    ")\n",
    "\n",
    "# Storing all the metrics\n",
    "rmse_scores_low, rmse_scores_mid, rmse_scores_high = [], [], []\n",
    "training_scores, validation_scores = [], []\n",
    "training_mse, validation_mse = [], []\n",
    "training_mae, validation_mae = [], []\n",
    "y_true_all, y_pred_all = [], []\n",
    "\n",
    "# K-Fold Cross-Validation loop\n",
    "for fold, (train_idx, test_idx) in enumerate(kf.split(X_oversampled), 1):\n",
    "    print(f\"Processing Fold {fold}...\")\n",
    "    \n",
    "    X_train, X_test = X_oversampled.iloc[train_idx], X_oversampled.iloc[test_idx]\n",
    "    y_train, y_test = y_oversampled.iloc[train_idx], y_oversampled.iloc[test_idx]\n",
    "\n",
    "    # Train model\n",
    "    rf_model.fit(X_train, y_train)\n",
    "\n",
    "    # Predictions\n",
    "    y_pred_train = rf_model.predict(X_train)\n",
    "    y_pred_test = rf_model.predict(X_test)\n",
    "    y_pred_test_rounded = np.round(y_pred_test)\n",
    "\n",
    "    # True and predicted values for plotting\n",
    "    y_true_all.extend(y_test)\n",
    "    y_pred_all.extend(y_pred_test_rounded)\n",
    "\n",
    "    # Training and validation R^2 scores calculations\n",
    "    training_scores.append(rf_model.score(X_train, y_train))\n",
    "    validation_scores.append(rf_model.score(X_test, y_test))\n",
    "\n",
    "    # Training and validation MSE/MAE\n",
    "    training_mse.append(mean_squared_error(y_train, y_pred_train))\n",
    "    validation_mse.append(mean_squared_error(y_test, y_pred_test))\n",
    "    training_mae.append(mean_absolute_error(y_train, y_pred_train))\n",
    "    validation_mae.append(mean_absolute_error(y_test, y_pred_test))\n",
    "\n",
    "    # Calculate RMSE for each range\n",
    "    rmse_low, rmse_mid, rmse_high = calculate_range_rmse(y_test, y_pred_test)\n",
    "    if not np.isnan(rmse_low): rmse_scores_low.append(rmse_low)\n",
    "    if not np.isnan(rmse_mid): rmse_scores_mid.append(rmse_mid)\n",
    "    if not np.isnan(rmse_high): rmse_scores_high.append(rmse_high)\n",
    "\n",
    "# Calculate metrics\n",
    "average_metrics = calculate_performance_metrics(np.array(y_true_all), np.array(y_pred_all))\n",
    "rmse_low_avg = np.mean(rmse_scores_low)\n",
    "rmse_mid_avg = np.mean(rmse_scores_mid)\n",
    "rmse_high_avg = np.mean(rmse_scores_high)\n",
    "\n",
    "# Display the metrics\n",
    "display_performance_metrics(average_metrics)\n",
    "display_range_rmse(rmse_low_avg, rmse_mid_avg, rmse_high_avg)\n",
    "\n",
    "# Display training and validation metrics\n",
    "print(\"\\nTraining and Validation Metrics (Averages Across Folds):\")\n",
    "print(f\"Training R²: {np.mean(training_scores):.2f}\")\n",
    "print(f\"Validation R²: {np.mean(validation_scores):.2f}\")\n",
    "print(f\"Training MSE: {np.mean(training_mse):.2f}\")\n",
    "print(f\"Validation MSE: {np.mean(validation_mse):.2f}\")\n",
    "print(f\"Training MAE: {np.mean(training_mae):.2f}\")\n",
    "print(f\"Validation MAE: {np.mean(validation_mae):.2f}\")"
   ]
  },
  {
   "cell_type": "markdown",
   "id": "99e04ab5",
   "metadata": {},
   "source": [
    "### Completing the Test Set"
   ]
  },
  {
   "cell_type": "code",
   "execution_count": null,
   "id": "a7ee7454",
   "metadata": {},
   "outputs": [],
   "source": [
    "# Use test data to create our predictions for test set\n",
    "y_pred_t = rf_model.predict(testing_features)\n",
    "print(y_pred_t)\n",
    "print(len(y_pred_t))"
   ]
  },
  {
   "cell_type": "code",
   "execution_count": null,
   "id": "f9d06390",
   "metadata": {},
   "outputs": [],
   "source": [
    "# Create dataframe for test predictions\n",
    "results_b_df = pd.DataFrame({\n",
    "    'question_id': test_df['question_id'],\n",
    "    'hardness_score': y_pred_t.round()})\n",
    "\n",
    "# Save the DataFrame to a CSV file\n",
    "results_b_df.to_csv('test_predictions_b.csv', index=False)\n",
    "\n",
    "print(\"Predictions saved to 'test_predictions_b.csv'\")\n"
   ]
  },
  {
   "cell_type": "markdown",
   "id": "6ca029e1",
   "metadata": {},
   "source": [
    "### Grid-Search"
   ]
  },
  {
   "cell_type": "code",
   "execution_count": null,
   "id": "452aa9b5",
   "metadata": {},
   "outputs": [],
   "source": [
    "# Define the Random Forest model\n",
    "rf_model = RandomForestRegressor(random_state=42)\n",
    "\n",
    "# hyperparameter grid for GridSearchCV\n",
    "param_grid = {\n",
    "    'n_estimators': [100, 200, 300],  # Number of trees in the forest\n",
    "    'max_depth': [10, 20, None],  # Maximum depth of the tree\n",
    "    'min_samples_split': [2, 5, 10],  # Minimum number of samples required to split an internal node\n",
    "    'min_samples_leaf': [1, 2, 4],  # Minimum number of samples required to be at a leaf node\n",
    "}\n",
    "\n",
    "# Define GridSearchCV\n",
    "grid_search = GridSearchCV(\n",
    "    estimator=rf_model,\n",
    "    param_grid=param_grid,\n",
    "    scoring='mean_squared_error',  # Use negative MSE as the scoring metric\n",
    "    cv=5,  # 5-fold cross-validation\n",
    "    verbose=2,\n",
    "    n_jobs=-1 \n",
    ")\n",
    "\n",
    "# Fit the grid search on oversampled training data\n",
    "grid_search.fit(X_oversampled, y_oversampled)\n",
    "\n",
    "# Get the best hyperparameters\n",
    "print(\"Best Parameters:\", grid_search.best_params_)\n",
    "print(\"Best Score:\", -grid_search.best_score_)  # Converting negative MSE to positive\n",
    "\n",
    "# Train the model with the best hyperparameters\n",
    "best_rf_model = grid_search.best_estimator_\n"
   ]
  },
  {
   "cell_type": "markdown",
   "id": "0be5727e",
   "metadata": {},
   "source": [
    "### Performance Visualizations"
   ]
  },
  {
   "cell_type": "code",
   "execution_count": null,
   "id": "af781c68",
   "metadata": {},
   "outputs": [],
   "source": [
    "# Create performance DataFrame for evaluation\n",
    "performance_df = pd.DataFrame({\n",
    "    'True Values': y_true_all,\n",
    "    'Predicted Values': y_pred_all\n",
    "})\n",
    "performance_df.head()"
   ]
  },
  {
   "cell_type": "code",
   "execution_count": null,
   "id": "138b3848",
   "metadata": {},
   "outputs": [],
   "source": [
    "import numpy as np\n",
    "import pandas as pd\n",
    "import matplotlib.pyplot as plt\n",
    "import seaborn as sns\n",
    "from sklearn.ensemble import RandomForestRegressor\n",
    "\n",
    "def plot_true_vs_predicted(performance_df):\n",
    "    \"\"\"\n",
    "    Visualizes the relationship between true and predicted values\n",
    "\n",
    "    Parameters:\n",
    "        performance_df: Dataframe\n",
    "    \"\"\"\n",
    "    plt.figure(figsize=(10, 6))\n",
    "    sns.scatterplot(x='True Values', y='Predicted Values', data=performance_df, alpha=0.7)\n",
    "    plt.plot([performance_df['True Values'].min(), performance_df['True Values'].max()],\n",
    "             [performance_df['True Values'].min(), performance_df['True Values'].max()],\n",
    "             color='red', linestyle='--', label='Perfect Prediction')\n",
    "    plt.title('True vs Predicted Values')\n",
    "    plt.xlabel('True Hardness Scores')\n",
    "    plt.ylabel('Predicted Hardness Scores')\n",
    "    plt.legend()\n",
    "    plt.show()\n",
    "\n",
    "def plot_hardness_score_distributions(performance_df):\n",
    "    \"\"\"\n",
    "    Compares the distributions of true and predicted hardness scores\n",
    "\n",
    "    Parameters:\n",
    "        performance_df: Dataframe\n",
    "    \"\"\"\n",
    "    plt.figure(figsize=(10, 6))\n",
    "    sns.histplot(performance_df['True Values'], kde=True, bins=30, color='blue', label='True', alpha=0.5)\n",
    "    sns.histplot(performance_df['Predicted Values'], kde=True, bins=30, color='green', label='Predicted', alpha=0.5)\n",
    "    plt.title('Distribution of True vs Predicted Hardness Scores')\n",
    "    plt.xlabel('Hardness Scores')\n",
    "    plt.ylabel('Frequency')\n",
    "    plt.legend()\n",
    "    plt.show()\n",
    "\n",
    "def plot_correlation_heatmap(data, features):\n",
    "    \"\"\"\n",
    "    Displays a heatmap of feature correlations\n",
    "\n",
    "    Parameters:\n",
    "        data: Dataframe\n",
    "        features: Selected features\n",
    "    \"\"\"\n",
    "    corr_matrix = data[features].corr()\n",
    "    plt.figure(figsize=(10, 8))\n",
    "    sns.heatmap(corr_matrix, annot=True, cmap='coolwarm', fmt=\".2f\", square=True)\n",
    "    plt.title('Correlation Heatmap')\n",
    "    plt.show()\n",
    "\n",
    "def plot_prediction_density_heatmap(performance_df):\n",
    "    \"\"\"\n",
    "    Displays a heatmap of prediction density\n",
    "\n",
    "    Parameters:\n",
    "        performance_df: Dataframe\n",
    "    \"\"\"\n",
    "    plt.figure(figsize=(10, 6))\n",
    "    sns.kdeplot(\n",
    "        x=performance_df['True Values'],\n",
    "        y=performance_df['Predicted Values'],\n",
    "        cmap=\"Blues\", fill=True\n",
    "    )\n",
    "    plt.plot([performance_df['True Values'].min(), performance_df['True Values'].max()],\n",
    "             [performance_df['True Values'].min(), performance_df['True Values'].max()],\n",
    "             color='red', linestyle='--', label='Perfect Prediction')\n",
    "    plt.title('Prediction Density Heatmap')\n",
    "    plt.xlabel('True Hardness Scores')\n",
    "    plt.ylabel('Predicted Hardness Scores')\n",
    "    plt.legend()\n",
    "    plt.show()\n",
    "\n",
    "def plot_residuals_vs_predicted(performance_df):\n",
    "    \"\"\"\n",
    "    Visualizes residuals against predicted values\n",
    "\n",
    "    Parameters:\n",
    "        performance_df: Dataframe\n",
    "    \"\"\"\n",
    "    plt.figure(figsize=(10, 6))\n",
    "    sns.scatterplot(x=performance_df['Predicted Values'], y=performance_df['Residuals'], alpha=0.7)\n",
    "    plt.axhline(0, color='red', linestyle='--')\n",
    "    plt.title('Residuals vs Predicted Values')\n",
    "    plt.xlabel('Predicted Hardness Scores')\n",
    "    plt.ylabel('Residuals')\n",
    "    plt.show()\n",
    "\n",
    "def plot_error_vs_true(performance_df):\n",
    "    \"\"\"\n",
    "    Displays the relationship between absolute errors and true values\n",
    "\n",
    "    Parameters:\n",
    "        performance_df: Dataframe\n",
    "    \"\"\"\n",
    "    performance_df['Error'] = np.abs(performance_df['True Values'] - performance_df['Predicted Values'])\n",
    "    plt.figure(figsize=(10, 6))\n",
    "    sns\n"
   ]
  },
  {
   "cell_type": "code",
   "execution_count": null,
   "id": "fc4165b1",
   "metadata": {},
   "outputs": [],
   "source": [
    "# Prepare performance_df with necessary columns\n",
    "performance_df['Residuals'] = performance_df['True Values'] - performance_df['Predicted Values']\n",
    "performance_df['Error'] = np.abs(performance_df['Residuals'])\n",
    "performance_df['Range'] = pd.cut(performance_df['True Values'], bins=[0, 3, 6, 10], labels=['Low', 'Mid', 'High'])\n",
    "\n",
    "# True vs Predicted Values\n",
    "plot_true_vs_predicted(performance_df)\n",
    "\n",
    "# Distribution of True vs Predicted Hardness Scores\n",
    "plot_hardness_score_distributions(performance_df)\n",
    "\n",
    "# Correlation Heatmap\n",
    "plot_correlation_heatmap(filtered_df, selected_features)\n",
    "\n",
    "# Prediction Density Heatmap\n",
    "plot_prediction_density_heatmap(performance_df)\n",
    "\n",
    "# Residuals vs Predicted Values\n",
    "plot_residuals_vs_predicted(performance_df)\n",
    "\n",
    "# Error vs True Values\n",
    "plot_error_vs_true(performance_df)\n"
   ]
  },
  {
   "cell_type": "code",
   "execution_count": null,
   "id": "d19a3c92",
   "metadata": {},
   "outputs": [],
   "source": []
  }
 ],
 "metadata": {
  "kernelspec": {
   "display_name": "base",
   "language": "python",
   "name": "python3"
  },
  "language_info": {
   "codemirror_mode": {
    "name": "ipython",
    "version": 3
   },
   "file_extension": ".py",
   "mimetype": "text/x-python",
   "name": "python",
   "nbconvert_exporter": "python",
   "pygments_lexer": "ipython3",
   "version": "3.12.2"
  }
 },
 "nbformat": 4,
 "nbformat_minor": 5
}
